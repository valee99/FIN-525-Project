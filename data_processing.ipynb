{
 "cells": [
  {
   "cell_type": "code",
   "execution_count": 1,
   "metadata": {},
   "outputs": [],
   "source": [
    "import polars as pl\n",
    "import missingno as msno"
   ]
  },
  {
   "cell_type": "code",
   "execution_count": null,
   "metadata": {},
   "outputs": [
    {
     "data": {
      "text/html": [
       "<div><style>\n",
       ".dataframe > thead > tr,\n",
       ".dataframe > tbody > tr {\n",
       "  text-align: right;\n",
       "  white-space: pre-wrap;\n",
       "}\n",
       "</style>\n",
       "<small>shape: (2_534, 10)</small><table border=\"1\" class=\"dataframe\"><thead><tr><th>&lt;TICKER&gt;</th><th>&lt;PER&gt;</th><th>&lt;DATE&gt;</th><th>&lt;TIME&gt;</th><th>&lt;OPEN&gt;</th><th>&lt;HIGH&gt;</th><th>&lt;LOW&gt;</th><th>&lt;CLOSE&gt;</th><th>&lt;VOL&gt;</th><th>&lt;OPENINT&gt;</th></tr><tr><td>str</td><td>i64</td><td>i64</td><td>i64</td><td>f64</td><td>f64</td><td>f64</td><td>f64</td><td>i64</td><td>i64</td></tr></thead><tbody><tr><td>&quot;AAPL.US&quot;</td><td>5</td><td>20241202</td><td>153000</td><td>237.27</td><td>239.37</td><td>237.16</td><td>239.2963</td><td>1268246</td><td>0</td></tr><tr><td>&quot;AAPL.US&quot;</td><td>5</td><td>20241202</td><td>153500</td><td>239.29</td><td>239.6</td><td>238.86</td><td>238.9</td><td>549900</td><td>0</td></tr><tr><td>&quot;AAPL.US&quot;</td><td>5</td><td>20241202</td><td>154000</td><td>238.91</td><td>238.99</td><td>238.2601</td><td>238.46</td><td>357202</td><td>0</td></tr><tr><td>&quot;AAPL.US&quot;</td><td>5</td><td>20241202</td><td>154500</td><td>238.455</td><td>238.77</td><td>238.37</td><td>238.52</td><td>384291</td><td>0</td></tr><tr><td>&quot;AAPL.US&quot;</td><td>5</td><td>20241202</td><td>155000</td><td>238.535</td><td>239.135</td><td>238.41</td><td>239.03</td><td>375152</td><td>0</td></tr><tr><td>&hellip;</td><td>&hellip;</td><td>&hellip;</td><td>&hellip;</td><td>&hellip;</td><td>&hellip;</td><td>&hellip;</td><td>&hellip;</td><td>&hellip;</td><td>&hellip;</td></tr><tr><td>&quot;AAPL.US&quot;</td><td>5</td><td>20250121</td><td>211000</td><td>221.385</td><td>221.3975</td><td>221.14</td><td>221.36</td><td>471928</td><td>0</td></tr><tr><td>&quot;AAPL.US&quot;</td><td>5</td><td>20250121</td><td>211500</td><td>221.36</td><td>221.6165</td><td>221.329</td><td>221.4299</td><td>529777</td><td>0</td></tr><tr><td>&quot;AAPL.US&quot;</td><td>5</td><td>20250121</td><td>212000</td><td>221.42</td><td>221.52</td><td>221.27</td><td>221.435</td><td>433959</td><td>0</td></tr><tr><td>&quot;AAPL.US&quot;</td><td>5</td><td>20250121</td><td>212500</td><td>221.43</td><td>221.67</td><td>221.32</td><td>221.65</td><td>388242</td><td>0</td></tr><tr><td>&quot;AAPL.US&quot;</td><td>5</td><td>20250121</td><td>213000</td><td>221.64</td><td>221.83</td><td>221.47</td><td>221.48</td><td>500337</td><td>0</td></tr></tbody></table></div>"
      ],
      "text/plain": [
       "shape: (2_534, 10)\n",
       "┌──────────┬───────┬──────────┬────────┬───┬──────────┬──────────┬─────────┬───────────┐\n",
       "│ <TICKER> ┆ <PER> ┆ <DATE>   ┆ <TIME> ┆ … ┆ <LOW>    ┆ <CLOSE>  ┆ <VOL>   ┆ <OPENINT> │\n",
       "│ ---      ┆ ---   ┆ ---      ┆ ---    ┆   ┆ ---      ┆ ---      ┆ ---     ┆ ---       │\n",
       "│ str      ┆ i64   ┆ i64      ┆ i64    ┆   ┆ f64      ┆ f64      ┆ i64     ┆ i64       │\n",
       "╞══════════╪═══════╪══════════╪════════╪═══╪══════════╪══════════╪═════════╪═══════════╡\n",
       "│ AAPL.US  ┆ 5     ┆ 20241202 ┆ 153000 ┆ … ┆ 237.16   ┆ 239.2963 ┆ 1268246 ┆ 0         │\n",
       "│ AAPL.US  ┆ 5     ┆ 20241202 ┆ 153500 ┆ … ┆ 238.86   ┆ 238.9    ┆ 549900  ┆ 0         │\n",
       "│ AAPL.US  ┆ 5     ┆ 20241202 ┆ 154000 ┆ … ┆ 238.2601 ┆ 238.46   ┆ 357202  ┆ 0         │\n",
       "│ AAPL.US  ┆ 5     ┆ 20241202 ┆ 154500 ┆ … ┆ 238.37   ┆ 238.52   ┆ 384291  ┆ 0         │\n",
       "│ AAPL.US  ┆ 5     ┆ 20241202 ┆ 155000 ┆ … ┆ 238.41   ┆ 239.03   ┆ 375152  ┆ 0         │\n",
       "│ …        ┆ …     ┆ …        ┆ …      ┆ … ┆ …        ┆ …        ┆ …       ┆ …         │\n",
       "│ AAPL.US  ┆ 5     ┆ 20250121 ┆ 211000 ┆ … ┆ 221.14   ┆ 221.36   ┆ 471928  ┆ 0         │\n",
       "│ AAPL.US  ┆ 5     ┆ 20250121 ┆ 211500 ┆ … ┆ 221.329  ┆ 221.4299 ┆ 529777  ┆ 0         │\n",
       "│ AAPL.US  ┆ 5     ┆ 20250121 ┆ 212000 ┆ … ┆ 221.27   ┆ 221.435  ┆ 433959  ┆ 0         │\n",
       "│ AAPL.US  ┆ 5     ┆ 20250121 ┆ 212500 ┆ … ┆ 221.32   ┆ 221.65   ┆ 388242  ┆ 0         │\n",
       "│ AAPL.US  ┆ 5     ┆ 20250121 ┆ 213000 ┆ … ┆ 221.47   ┆ 221.48   ┆ 500337  ┆ 0         │\n",
       "└──────────┴───────┴──────────┴────────┴───┴──────────┴──────────┴─────────┴───────────┘"
      ]
     },
     "execution_count": 5,
     "metadata": {},
     "output_type": "execute_result"
    }
   ],
   "source": [
    "path = 'data_stooq/5 min/us/nasdaq stocks/1/aapl.us.txt'\n",
    "appl_data = pl.read_csv(path, separator=',')\n",
    "appl_data.head(-5)"
   ]
  },
  {
   "cell_type": "code",
   "execution_count": 7,
   "metadata": {},
   "outputs": [
    {
     "data": {
      "text/plain": [
       "(2539, 10)"
      ]
     },
     "execution_count": 7,
     "metadata": {},
     "output_type": "execute_result"
    }
   ],
   "source": [
    "appl_data.shape"
   ]
  },
  {
   "cell_type": "code",
   "execution_count": null,
   "metadata": {},
   "outputs": [],
   "source": []
  }
 ],
 "metadata": {
  "kernelspec": {
   "display_name": ".venv",
   "language": "python",
   "name": "python3"
  },
  "language_info": {
   "codemirror_mode": {
    "name": "ipython",
    "version": 3
   },
   "file_extension": ".py",
   "mimetype": "text/x-python",
   "name": "python",
   "nbconvert_exporter": "python",
   "pygments_lexer": "ipython3",
   "version": "3.12.6"
  }
 },
 "nbformat": 4,
 "nbformat_minor": 2
}
