{
 "cells": [
  {
   "cell_type": "code",
   "execution_count": 28,
   "metadata": {},
   "outputs": [],
   "source": [
    "import polars as pl\n",
    "from datetime import datetime, timedelta\n",
    "import matplotlib.pyplot as plt"
   ]
  },
  {
   "cell_type": "markdown",
   "metadata": {},
   "source": [
    "### BBO"
   ]
  },
  {
   "cell_type": "code",
   "execution_count": 2,
   "metadata": {},
   "outputs": [],
   "source": [
    "data_bbo = pl.read_parquet(\"data/raw_bbo_data.parquet\")"
   ]
  },
  {
   "cell_type": "code",
   "execution_count": 3,
   "metadata": {},
   "outputs": [
    {
     "data": {
      "text/html": [
       "<div><style>\n",
       ".dataframe > thead > tr,\n",
       ".dataframe > tbody > tr {\n",
       "  text-align: right;\n",
       "  white-space: pre-wrap;\n",
       "}\n",
       "</style>\n",
       "<small>shape: (5, 6)</small><table border=\"1\" class=\"dataframe\"><thead><tr><th>Time</th><th>Bid_Price</th><th>Bid_Volume</th><th>Ask_Price</th><th>Ask_Volume</th><th>Stock</th></tr><tr><td>datetime[μs, America/New_York]</td><td>f64</td><td>i64</td><td>f64</td><td>i64</td><td>str</td></tr></thead><tbody><tr><td>2008-07-01 09:30:07.238999 EDT</td><td>32.25</td><td>18</td><td>32.34</td><td>1</td><td>&quot;WAG.N&quot;</td></tr><tr><td>2008-07-01 09:30:07.607999 EDT</td><td>32.27</td><td>1</td><td>32.3</td><td>1</td><td>&quot;WAG.N&quot;</td></tr><tr><td>2008-07-01 09:30:11.085 EDT</td><td>32.25</td><td>18</td><td>32.3</td><td>1</td><td>&quot;WAG.N&quot;</td></tr><tr><td>2008-07-01 09:30:11.244 EDT</td><td>32.25</td><td>18</td><td>32.36</td><td>46</td><td>&quot;WAG.N&quot;</td></tr><tr><td>2008-07-01 09:30:11.299 EDT</td><td>32.25</td><td>17</td><td>32.36</td><td>46</td><td>&quot;WAG.N&quot;</td></tr></tbody></table></div>"
      ],
      "text/plain": [
       "shape: (5, 6)\n",
       "┌────────────────────────────────┬───────────┬────────────┬───────────┬────────────┬───────┐\n",
       "│ Time                           ┆ Bid_Price ┆ Bid_Volume ┆ Ask_Price ┆ Ask_Volume ┆ Stock │\n",
       "│ ---                            ┆ ---       ┆ ---        ┆ ---       ┆ ---        ┆ ---   │\n",
       "│ datetime[μs, America/New_York] ┆ f64       ┆ i64        ┆ f64       ┆ i64        ┆ str   │\n",
       "╞════════════════════════════════╪═══════════╪════════════╪═══════════╪════════════╪═══════╡\n",
       "│ 2008-07-01 09:30:07.238999 EDT ┆ 32.25     ┆ 18         ┆ 32.34     ┆ 1          ┆ WAG.N │\n",
       "│ 2008-07-01 09:30:07.607999 EDT ┆ 32.27     ┆ 1          ┆ 32.3      ┆ 1          ┆ WAG.N │\n",
       "│ 2008-07-01 09:30:11.085 EDT    ┆ 32.25     ┆ 18         ┆ 32.3      ┆ 1          ┆ WAG.N │\n",
       "│ 2008-07-01 09:30:11.244 EDT    ┆ 32.25     ┆ 18         ┆ 32.36     ┆ 46         ┆ WAG.N │\n",
       "│ 2008-07-01 09:30:11.299 EDT    ┆ 32.25     ┆ 17         ┆ 32.36     ┆ 46         ┆ WAG.N │\n",
       "└────────────────────────────────┴───────────┴────────────┴───────────┴────────────┴───────┘"
      ]
     },
     "execution_count": 3,
     "metadata": {},
     "output_type": "execute_result"
    }
   ],
   "source": [
    "data_bbo = data_bbo.drop(\"xltime\")\n",
    "\n",
    "data_bbo = data_bbo.rename({\n",
    "    \"index\": \"Time\",\n",
    "    \"bid-price\" : \"Bid_Price\",\n",
    "    \"bid-volume\" : \"Bid_Volume\",\n",
    "    \"ask-price\" : \"Ask_Price\",\n",
    "    \"ask-volume\" : \"Ask_Volume\"\t\n",
    "    })\n"
   ]
  },
  {
   "cell_type": "code",
   "execution_count": 4,
   "metadata": {},
   "outputs": [
    {
     "name": "stdout",
     "output_type": "stream",
     "text": [
      "[Datetime(time_unit='us', time_zone='America/New_York'), Float64, Int64, Float64, Int64, String]\n",
      "shape: (6, 3)\n",
      "┌────────────┬─────────────────────────────────┬─────────────────────────────────┐\n",
      "│ column     ┆ data_type                       ┆ Total of Observation for each … │\n",
      "│ ---        ┆ ---                             ┆ ---                             │\n",
      "│ str        ┆ str                             ┆ u32                             │\n",
      "╞════════════╪═════════════════════════════════╪═════════════════════════════════╡\n",
      "│ Time       ┆ Datetime(time_unit='us', time_… ┆ 32665584                        │\n",
      "│ Bid_Price  ┆ Float64                         ┆ 32665584                        │\n",
      "│ Bid_Volume ┆ Int64                           ┆ 32665584                        │\n",
      "│ Ask_Price  ┆ Float64                         ┆ 32665584                        │\n",
      "│ Ask_Volume ┆ Int64                           ┆ 32665584                        │\n",
      "│ Stock      ┆ String                          ┆ 32665584                        │\n",
      "└────────────┴─────────────────────────────────┴─────────────────────────────────┘\n"
     ]
    }
   ],
   "source": [
    "dtypes_info = data_bbo.dtypes\n",
    "print(dtypes_info)\n",
    "\n",
    "# If you want a more visual summary similar to `.info()` in pandas\n",
    "info_data_bbo = pl.DataFrame({\n",
    "    \"column\": data_bbo.columns,\n",
    "    \"data_type\": [str(dtype) for dtype in dtypes_info],\n",
    "    \"Total of Observation for each column\": [data_bbo.select(pl.col(column).count()).to_numpy()[0][0] for column in data_bbo.columns]\n",
    "})\n",
    "\n",
    "print(info_data_bbo)"
   ]
  },
  {
   "cell_type": "code",
   "execution_count": 5,
   "metadata": {},
   "outputs": [
    {
     "name": "stdout",
     "output_type": "stream",
     "text": [
      "Column 'Time' has 0 missing values\n",
      "Column 'Bid_Price' has 0 missing values\n",
      "Column 'Bid_Volume' has 0 missing values\n",
      "Column 'Ask_Price' has 0 missing values\n",
      "Column 'Ask_Volume' has 0 missing values\n",
      "Column 'Stock' has 0 missing values\n"
     ]
    }
   ],
   "source": [
    "# Checking for missing values in each column\n",
    "for column in data_bbo.columns:\n",
    "    null_count = data_bbo[column].is_null().sum()\n",
    "    print(f\"Column '{column}' has {null_count} missing values\")"
   ]
  },
  {
   "cell_type": "code",
   "execution_count": 8,
   "metadata": {},
   "outputs": [],
   "source": [
    "data_bbo = data_bbo.with_columns(\n",
    "    ((data_bbo['Bid_Price'] + data_bbo['Ask_Price']) / 2 ).alias(\"Mid_Price\"),\n",
    "    (data_bbo['Bid_Price'] * data_bbo['Bid_Volume']).alias(\"Bid_Volume_Price\"),\n",
    "    (data_bbo['Ask_Price'] * data_bbo['Ask_Volume']).alias(\"Ask_Volume_Price\")\n",
    "    )\n",
    "\n",
    "data_bbo = data_bbo.with_columns(\n",
    "    (data_bbo['Mid_Price'] / data_bbo['Mid_Price'].shift(1) - 1).alias(\"Simple_Return\"),\n",
    "    (data_bbo['Mid_Price'] / data_bbo['Mid_Price'].shift(1)).log().alias(\"Log_Return\")\n",
    ")"
   ]
  },
  {
   "cell_type": "code",
   "execution_count": 18,
   "metadata": {},
   "outputs": [
    {
     "data": {
      "text/html": [
       "<div><style>\n",
       ".dataframe > thead > tr,\n",
       ".dataframe > tbody > tr {\n",
       "  text-align: right;\n",
       "  white-space: pre-wrap;\n",
       "}\n",
       "</style>\n",
       "<small>shape: (9, 12)</small><table border=\"1\" class=\"dataframe\"><thead><tr><th>statistic</th><th>Time</th><th>Bid_Price</th><th>Bid_Volume</th><th>Ask_Price</th><th>Ask_Volume</th><th>Stock</th><th>Mid_Price</th><th>Bid_Volume_Price</th><th>Ask_Volume_Price</th><th>Simple_Return</th><th>Log_Return</th></tr><tr><td>str</td><td>str</td><td>f64</td><td>f64</td><td>f64</td><td>f64</td><td>str</td><td>f64</td><td>f64</td><td>f64</td><td>f64</td><td>f64</td></tr></thead><tbody><tr><td>&quot;count&quot;</td><td>&quot;32665584&quot;</td><td>3.2665584e7</td><td>3.2665584e7</td><td>3.2665584e7</td><td>3.2665584e7</td><td>&quot;32665584&quot;</td><td>3.2665584e7</td><td>3.2665584e7</td><td>3.2665584e7</td><td>3.2665583e7</td><td>3.2665583e7</td></tr><tr><td>&quot;null_count&quot;</td><td>&quot;0&quot;</td><td>0.0</td><td>0.0</td><td>0.0</td><td>0.0</td><td>&quot;0&quot;</td><td>0.0</td><td>0.0</td><td>0.0</td><td>1.0</td><td>1.0</td></tr><tr><td>&quot;mean&quot;</td><td>&quot;2008-10-03 21:07:40.878676-04:…</td><td>24.007892</td><td>31.68592</td><td>24.035969</td><td>29.999436</td><td>null</td><td>24.021931</td><td>383.020028</td><td>395.944653</td><td>0.047483</td><td>-3.5755e-9</td></tr><tr><td>&quot;std&quot;</td><td>null</td><td>10.558782</td><td>130.167709</td><td>10.566081</td><td>137.795939</td><td>null</td><td>10.562424</td><td>1343.614515</td><td>2194.327816</td><td>0.674264</td><td>0.259607</td></tr><tr><td>&quot;min&quot;</td><td>&quot;2008-07-01 09:30:07.238999-04:…</td><td>1.35</td><td>0.0</td><td>1.36</td><td>0.0</td><td>&quot;BK.N&quot;</td><td>1.355</td><td>0.0</td><td>0.0</td><td>-0.952546</td><td>-3.047993</td></tr><tr><td>&quot;25%&quot;</td><td>&quot;2008-08-19 12:28:29.193000-04:…</td><td>16.52</td><td>2.0</td><td>16.53</td><td>2.0</td><td>null</td><td>16.525</td><td>43.56</td><td>41.72</td><td>0.0</td><td>0.0</td></tr><tr><td>&quot;50%&quot;</td><td>&quot;2008-10-09 14:24:31.788000-04:…</td><td>27.1</td><td>5.0</td><td>27.14</td><td>5.0</td><td>null</td><td>27.125</td><td>120.44</td><td>118.44</td><td>0.0</td><td>0.0</td></tr><tr><td>&quot;75%&quot;</td><td>&quot;2008-11-18 12:49:33.793000-05:…</td><td>32.7</td><td>20.0</td><td>32.73</td><td>20.0</td><td>null</td><td>32.715</td><td>350.57</td><td>343.6</td><td>0.0</td><td>0.0</td></tr><tr><td>&quot;max&quot;</td><td>&quot;2008-12-31 16:00:00.439000-05:…</td><td>40.63</td><td>17913.0</td><td>42.01</td><td>13216.0</td><td>&quot;WAG.N&quot;</td><td>41.01</td><td>331211.37</td><td>266068.0</td><td>20.073016</td><td>3.047993</td></tr></tbody></table></div>"
      ],
      "text/plain": [
       "shape: (9, 12)\n",
       "┌───────────┬───────────┬───────────┬───────────┬───┬───────────┬───────────┬───────────┬──────────┐\n",
       "│ statistic ┆ Time      ┆ Bid_Price ┆ Bid_Volum ┆ … ┆ Bid_Volum ┆ Ask_Volum ┆ Simple_Re ┆ Log_Retu │\n",
       "│ ---       ┆ ---       ┆ ---       ┆ e         ┆   ┆ e_Price   ┆ e_Price   ┆ turn      ┆ rn       │\n",
       "│ str       ┆ str       ┆ f64       ┆ ---       ┆   ┆ ---       ┆ ---       ┆ ---       ┆ ---      │\n",
       "│           ┆           ┆           ┆ f64       ┆   ┆ f64       ┆ f64       ┆ f64       ┆ f64      │\n",
       "╞═══════════╪═══════════╪═══════════╪═══════════╪═══╪═══════════╪═══════════╪═══════════╪══════════╡\n",
       "│ count     ┆ 32665584  ┆ 3.2665584 ┆ 3.2665584 ┆ … ┆ 3.2665584 ┆ 3.2665584 ┆ 3.2665583 ┆ 3.266558 │\n",
       "│           ┆           ┆ e7        ┆ e7        ┆   ┆ e7        ┆ e7        ┆ e7        ┆ 3e7      │\n",
       "│ null_coun ┆ 0         ┆ 0.0       ┆ 0.0       ┆ … ┆ 0.0       ┆ 0.0       ┆ 1.0       ┆ 1.0      │\n",
       "│ t         ┆           ┆           ┆           ┆   ┆           ┆           ┆           ┆          │\n",
       "│ mean      ┆ 2008-10-0 ┆ 24.007892 ┆ 31.68592  ┆ … ┆ 383.02002 ┆ 395.94465 ┆ 0.047483  ┆ -3.5755e │\n",
       "│           ┆ 3 21:07:4 ┆           ┆           ┆   ┆ 8         ┆ 3         ┆           ┆ -9       │\n",
       "│           ┆ 0.878676- ┆           ┆           ┆   ┆           ┆           ┆           ┆          │\n",
       "│           ┆ 04:…      ┆           ┆           ┆   ┆           ┆           ┆           ┆          │\n",
       "│ std       ┆ null      ┆ 10.558782 ┆ 130.16770 ┆ … ┆ 1343.6145 ┆ 2194.3278 ┆ 0.674264  ┆ 0.259607 │\n",
       "│           ┆           ┆           ┆ 9         ┆   ┆ 15        ┆ 16        ┆           ┆          │\n",
       "│ min       ┆ 2008-07-0 ┆ 1.35      ┆ 0.0       ┆ … ┆ 0.0       ┆ 0.0       ┆ -0.952546 ┆ -3.04799 │\n",
       "│           ┆ 1 09:30:0 ┆           ┆           ┆   ┆           ┆           ┆           ┆ 3        │\n",
       "│           ┆ 7.238999- ┆           ┆           ┆   ┆           ┆           ┆           ┆          │\n",
       "│           ┆ 04:…      ┆           ┆           ┆   ┆           ┆           ┆           ┆          │\n",
       "│ 25%       ┆ 2008-08-1 ┆ 16.52     ┆ 2.0       ┆ … ┆ 43.56     ┆ 41.72     ┆ 0.0       ┆ 0.0      │\n",
       "│           ┆ 9 12:28:2 ┆           ┆           ┆   ┆           ┆           ┆           ┆          │\n",
       "│           ┆ 9.193000- ┆           ┆           ┆   ┆           ┆           ┆           ┆          │\n",
       "│           ┆ 04:…      ┆           ┆           ┆   ┆           ┆           ┆           ┆          │\n",
       "│ 50%       ┆ 2008-10-0 ┆ 27.1      ┆ 5.0       ┆ … ┆ 120.44    ┆ 118.44    ┆ 0.0       ┆ 0.0      │\n",
       "│           ┆ 9 14:24:3 ┆           ┆           ┆   ┆           ┆           ┆           ┆          │\n",
       "│           ┆ 1.788000- ┆           ┆           ┆   ┆           ┆           ┆           ┆          │\n",
       "│           ┆ 04:…      ┆           ┆           ┆   ┆           ┆           ┆           ┆          │\n",
       "│ 75%       ┆ 2008-11-1 ┆ 32.7      ┆ 20.0      ┆ … ┆ 350.57    ┆ 343.6     ┆ 0.0       ┆ 0.0      │\n",
       "│           ┆ 8 12:49:3 ┆           ┆           ┆   ┆           ┆           ┆           ┆          │\n",
       "│           ┆ 3.793000- ┆           ┆           ┆   ┆           ┆           ┆           ┆          │\n",
       "│           ┆ 05:…      ┆           ┆           ┆   ┆           ┆           ┆           ┆          │\n",
       "│ max       ┆ 2008-12-3 ┆ 40.63     ┆ 17913.0   ┆ … ┆ 331211.37 ┆ 266068.0  ┆ 20.073016 ┆ 3.047993 │\n",
       "│           ┆ 1 16:00:0 ┆           ┆           ┆   ┆           ┆           ┆           ┆          │\n",
       "│           ┆ 0.439000- ┆           ┆           ┆   ┆           ┆           ┆           ┆          │\n",
       "│           ┆ 05:…      ┆           ┆           ┆   ┆           ┆           ┆           ┆          │\n",
       "└───────────┴───────────┴───────────┴───────────┴───┴───────────┴───────────┴───────────┴──────────┘"
      ]
     },
     "execution_count": 18,
     "metadata": {},
     "output_type": "execute_result"
    }
   ],
   "source": [
    "data_bbo.describe()"
   ]
  },
  {
   "cell_type": "code",
   "execution_count": null,
   "metadata": {},
   "outputs": [],
   "source": [
    "data_bbo = data_bbo.with_columns(\n",
    "    pl.col('Time').cast(pl.Datetime).alias('Time')  # Ensure the 'Time' column is cast to Datetime\n",
    ")\n",
    "data_bbo = data_bbo.with_columns([\n",
    "    pl.col(\"Time\").dt.year().alias(\"Year\"),\n",
    "    pl.col(\"Time\").dt.month().alias(\"Month\"),\n",
    "    pl.col(\"Time\").dt.day().alias(\"Day\"),\n",
    "    pl.col(\"Time\").dt.hour().alias(\"Hour\"),\n",
    "    pl.col(\"Time\").dt.minute().alias(\"Minute\"),\n",
    "    pl.col(\"Time\").dt.second().alias(\"Second\"),\n",
    "])"
   ]
  },
  {
   "cell_type": "code",
   "execution_count": 1,
   "metadata": {},
   "outputs": [
    {
     "ename": "NameError",
     "evalue": "name 'data_bbo' is not defined",
     "output_type": "error",
     "traceback": [
      "\u001b[0;31m---------------------------------------------------------------------------\u001b[0m",
      "\u001b[0;31mNameError\u001b[0m                                 Traceback (most recent call last)",
      "Cell \u001b[0;32mIn[1], line 1\u001b[0m\n\u001b[0;32m----> 1\u001b[0m \u001b[43mdata_bbo\u001b[49m\u001b[38;5;241m.\u001b[39mhead()\n",
      "\u001b[0;31mNameError\u001b[0m: name 'data_bbo' is not defined"
     ]
    }
   ],
   "source": [
    "data_bbo.head()"
   ]
  },
  {
   "cell_type": "markdown",
   "metadata": {},
   "source": [
    "# TRADE"
   ]
  },
  {
   "cell_type": "code",
   "execution_count": 13,
   "metadata": {},
   "outputs": [],
   "source": [
    "data_trade = pl.read_parquet(\"data/raw_trade_data.parquet\")"
   ]
  },
  {
   "cell_type": "code",
   "execution_count": 14,
   "metadata": {},
   "outputs": [
    {
     "data": {
      "text/html": [
       "<div><style>\n",
       ".dataframe > thead > tr,\n",
       ".dataframe > tbody > tr {\n",
       "  text-align: right;\n",
       "  white-space: pre-wrap;\n",
       "}\n",
       "</style>\n",
       "<small>shape: (1, 3)</small><table border=\"1\" class=\"dataframe\"><thead><tr><th>Time</th><th>Trade_Price</th><th>Trade_Volume</th></tr><tr><td>datetime[μs, America/New_York]</td><td>f64</td><td>f64</td></tr></thead><tbody><tr><td>2008-07-01 09:30:07.163 EDT</td><td>32.3</td><td>69600.0</td></tr></tbody></table></div>"
      ],
      "text/plain": [
       "shape: (1, 3)\n",
       "┌────────────────────────────────┬─────────────┬──────────────┐\n",
       "│ Time                           ┆ Trade_Price ┆ Trade_Volume │\n",
       "│ ---                            ┆ ---         ┆ ---          │\n",
       "│ datetime[μs, America/New_York] ┆ f64         ┆ f64          │\n",
       "╞════════════════════════════════╪═════════════╪══════════════╡\n",
       "│ 2008-07-01 09:30:07.163 EDT    ┆ 32.3        ┆ 69600.0      │\n",
       "└────────────────────────────────┴─────────────┴──────────────┘"
      ]
     },
     "execution_count": 14,
     "metadata": {},
     "output_type": "execute_result"
    }
   ],
   "source": [
    "data_trade = data_trade.rename({\n",
    "    \"index\" : \"Time\",\n",
    "    \"trade-price\" : \"Trade_Price\",\n",
    "    \"trade-volume\" : \"Trade_Volume\"\n",
    "    })"
   ]
  },
  {
   "cell_type": "code",
   "execution_count": 15,
   "metadata": {},
   "outputs": [
    {
     "name": "stdout",
     "output_type": "stream",
     "text": [
      "[Datetime(time_unit='us', time_zone='America/New_York'), Float64, Float64]\n",
      "shape: (3, 3)\n",
      "┌──────────────┬─────────────────────────────────┬─────────────────────────────────┐\n",
      "│ column       ┆ data_type                       ┆ Total of Observation for each … │\n",
      "│ ---          ┆ ---                             ┆ ---                             │\n",
      "│ str          ┆ str                             ┆ u32                             │\n",
      "╞══════════════╪═════════════════════════════════╪═════════════════════════════════╡\n",
      "│ Time         ┆ Datetime(time_unit='us', time_… ┆ 8115100                         │\n",
      "│ Trade_Price  ┆ Float64                         ┆ 8115100                         │\n",
      "│ Trade_Volume ┆ Float64                         ┆ 8115100                         │\n",
      "└──────────────┴─────────────────────────────────┴─────────────────────────────────┘\n"
     ]
    }
   ],
   "source": [
    "dtypes_info = data_trade.dtypes\n",
    "print(dtypes_info)\n",
    "\n",
    "# If you want a more visual summary similar to `.info()` in pandas\n",
    "info_data_trade = pl.DataFrame({\n",
    "    \"column\": data_trade.columns,\n",
    "    \"data_type\": [str(dtype) for dtype in dtypes_info],\n",
    "    \"Total of Observation for each column\": [data_trade.select(pl.col(column).count()).to_numpy()[0][0] for column in data_trade.columns]\n",
    "})\n",
    "\n",
    "print(info_data_trade)"
   ]
  },
  {
   "cell_type": "code",
   "execution_count": 16,
   "metadata": {},
   "outputs": [
    {
     "name": "stdout",
     "output_type": "stream",
     "text": [
      "Column 'Time' has 0 missing values\n",
      "Column 'Trade_Price' has 0 missing values\n",
      "Column 'Trade_Volume' has 0 missing values\n"
     ]
    }
   ],
   "source": [
    "# Checking for missing values in each column\n",
    "for column in data_trade.columns:\n",
    "    null_count = data_trade[column].is_null().sum()\n",
    "    print(f\"Column '{column}' has {null_count} missing values\")"
   ]
  },
  {
   "cell_type": "code",
   "execution_count": 19,
   "metadata": {},
   "outputs": [
    {
     "data": {
      "text/html": [
       "<div><style>\n",
       ".dataframe > thead > tr,\n",
       ".dataframe > tbody > tr {\n",
       "  text-align: right;\n",
       "  white-space: pre-wrap;\n",
       "}\n",
       "</style>\n",
       "<small>shape: (9, 4)</small><table border=\"1\" class=\"dataframe\"><thead><tr><th>statistic</th><th>Time</th><th>Trade_Price</th><th>Trade_Volume</th></tr><tr><td>str</td><td>str</td><td>f64</td><td>f64</td></tr></thead><tbody><tr><td>&quot;count&quot;</td><td>&quot;8115100&quot;</td><td>8.1151e6</td><td>8.1151e6</td></tr><tr><td>&quot;null_count&quot;</td><td>&quot;0&quot;</td><td>0.0</td><td>0.0</td></tr><tr><td>&quot;mean&quot;</td><td>&quot;2008-10-02 11:36:31.048446-04:…</td><td>23.324136</td><td>735.181859</td></tr><tr><td>&quot;std&quot;</td><td>null</td><td>10.456872</td><td>25744.637667</td></tr><tr><td>&quot;min&quot;</td><td>&quot;2008-07-01 09:30:07.163000-04:…</td><td>1.35</td><td>100.0</td></tr><tr><td>&quot;25%&quot;</td><td>&quot;2008-08-21 10:00:14.173000-04:…</td><td>15.42</td><td>100.0</td></tr><tr><td>&quot;50%&quot;</td><td>&quot;2008-10-06 15:58:47.467000-04:…</td><td>26.16</td><td>200.0</td></tr><tr><td>&quot;75%&quot;</td><td>&quot;2008-11-14 11:08:25.292000-05:…</td><td>32.37</td><td>500.0</td></tr><tr><td>&quot;max&quot;</td><td>&quot;2008-12-31 16:03:23.503000-05:…</td><td>42.0</td><td>1.72772e7</td></tr></tbody></table></div>"
      ],
      "text/plain": [
       "shape: (9, 4)\n",
       "┌────────────┬─────────────────────────────────┬─────────────┬──────────────┐\n",
       "│ statistic  ┆ Time                            ┆ Trade_Price ┆ Trade_Volume │\n",
       "│ ---        ┆ ---                             ┆ ---         ┆ ---          │\n",
       "│ str        ┆ str                             ┆ f64         ┆ f64          │\n",
       "╞════════════╪═════════════════════════════════╪═════════════╪══════════════╡\n",
       "│ count      ┆ 8115100                         ┆ 8.1151e6    ┆ 8.1151e6     │\n",
       "│ null_count ┆ 0                               ┆ 0.0         ┆ 0.0          │\n",
       "│ mean       ┆ 2008-10-02 11:36:31.048446-04:… ┆ 23.324136   ┆ 735.181859   │\n",
       "│ std        ┆ null                            ┆ 10.456872   ┆ 25744.637667 │\n",
       "│ min        ┆ 2008-07-01 09:30:07.163000-04:… ┆ 1.35        ┆ 100.0        │\n",
       "│ 25%        ┆ 2008-08-21 10:00:14.173000-04:… ┆ 15.42       ┆ 100.0        │\n",
       "│ 50%        ┆ 2008-10-06 15:58:47.467000-04:… ┆ 26.16       ┆ 200.0        │\n",
       "│ 75%        ┆ 2008-11-14 11:08:25.292000-05:… ┆ 32.37       ┆ 500.0        │\n",
       "│ max        ┆ 2008-12-31 16:03:23.503000-05:… ┆ 42.0        ┆ 1.72772e7    │\n",
       "└────────────┴─────────────────────────────────┴─────────────┴──────────────┘"
      ]
     },
     "execution_count": 19,
     "metadata": {},
     "output_type": "execute_result"
    }
   ],
   "source": [
    "data_trade.describe()"
   ]
  }
 ],
 "metadata": {
  "kernelspec": {
   "display_name": ".venv",
   "language": "python",
   "name": "python3"
  },
  "language_info": {
   "codemirror_mode": {
    "name": "ipython",
    "version": 3
   },
   "file_extension": ".py",
   "mimetype": "text/x-python",
   "name": "python",
   "nbconvert_exporter": "python",
   "pygments_lexer": "ipython3",
   "version": "3.12.6"
  }
 },
 "nbformat": 4,
 "nbformat_minor": 2
}
