{
 "cells": [
  {
   "cell_type": "code",
   "execution_count": 1,
   "metadata": {},
   "outputs": [],
   "source": [
    "import polars as pl"
   ]
  },
  {
   "cell_type": "code",
   "execution_count": 2,
   "metadata": {},
   "outputs": [
    {
     "data": {
      "text/html": [
       "<div><style>\n",
       ".dataframe > thead > tr,\n",
       ".dataframe > tbody > tr {\n",
       "  text-align: right;\n",
       "  white-space: pre-wrap;\n",
       "}\n",
       "</style>\n",
       "<small>shape: (127_927_147, 7)</small><table border=\"1\" class=\"dataframe\"><thead><tr><th>index</th><th>xltime</th><th>bid-price</th><th>bid-volume</th><th>ask-price</th><th>ask-volume</th><th>Stock</th></tr><tr><td>datetime[μs, America/New_York]</td><td>f64</td><td>f64</td><td>i64</td><td>f64</td><td>i64</td><td>str</td></tr></thead><tbody><tr><td>2008-01-02 09:30:04.132 EST</td><td>39449.604214</td><td>29.68</td><td>1</td><td>29.69</td><td>373</td><td>&quot;C.N&quot;</td></tr><tr><td>2008-01-02 09:30:04.334 EST</td><td>39449.604217</td><td>29.68</td><td>1</td><td>29.69</td><td>372</td><td>&quot;C.N&quot;</td></tr><tr><td>2008-01-02 09:30:04.423 EST</td><td>39449.604218</td><td>29.67</td><td>1</td><td>29.69</td><td>361</td><td>&quot;C.N&quot;</td></tr><tr><td>2008-01-02 09:30:04.576 EST</td><td>39449.60422</td><td>29.67</td><td>1</td><td>29.69</td><td>356</td><td>&quot;C.N&quot;</td></tr><tr><td>2008-01-02 09:30:04.825 EST</td><td>39449.604223</td><td>29.67</td><td>1</td><td>29.69</td><td>353</td><td>&quot;C.N&quot;</td></tr><tr><td>&hellip;</td><td>&hellip;</td><td>&hellip;</td><td>&hellip;</td><td>&hellip;</td><td>&hellip;</td><td>&hellip;</td></tr><tr><td>2008-12-31 16:00:00.069 EST</td><td>39813.875001</td><td>29.76</td><td>237</td><td>29.81</td><td>2</td><td>&quot;WFC.N&quot;</td></tr><tr><td>2008-12-31 16:00:00.093 EST</td><td>39813.875001</td><td>29.76</td><td>237</td><td>29.84</td><td>55</td><td>&quot;WFC.N&quot;</td></tr><tr><td>2008-12-31 16:00:00.192 EST</td><td>39813.875002</td><td>29.81</td><td>3</td><td>29.84</td><td>13</td><td>&quot;WFC.N&quot;</td></tr><tr><td>2008-12-31 16:00:00.374 EST</td><td>39813.875004</td><td>29.76</td><td>237</td><td>29.84</td><td>13</td><td>&quot;WFC.N&quot;</td></tr><tr><td>2008-12-31 16:00:00.572 EST</td><td>39813.875007</td><td>29.76</td><td>237</td><td>29.78</td><td>1</td><td>&quot;WFC.N&quot;</td></tr></tbody></table></div>"
      ],
      "text/plain": [
       "shape: (127_927_147, 7)\n",
       "┌─────────────────────────┬──────────────┬───────────┬────────────┬───────────┬────────────┬───────┐\n",
       "│ index                   ┆ xltime       ┆ bid-price ┆ bid-volume ┆ ask-price ┆ ask-volume ┆ Stock │\n",
       "│ ---                     ┆ ---          ┆ ---       ┆ ---        ┆ ---       ┆ ---        ┆ ---   │\n",
       "│ datetime[μs,            ┆ f64          ┆ f64       ┆ i64        ┆ f64       ┆ i64        ┆ str   │\n",
       "│ America/New_York]       ┆              ┆           ┆            ┆           ┆            ┆       │\n",
       "╞═════════════════════════╪══════════════╪═══════════╪════════════╪═══════════╪════════════╪═══════╡\n",
       "│ 2008-01-02 09:30:04.132 ┆ 39449.604214 ┆ 29.68     ┆ 1          ┆ 29.69     ┆ 373        ┆ C.N   │\n",
       "│ EST                     ┆              ┆           ┆            ┆           ┆            ┆       │\n",
       "│ 2008-01-02 09:30:04.334 ┆ 39449.604217 ┆ 29.68     ┆ 1          ┆ 29.69     ┆ 372        ┆ C.N   │\n",
       "│ EST                     ┆              ┆           ┆            ┆           ┆            ┆       │\n",
       "│ 2008-01-02 09:30:04.423 ┆ 39449.604218 ┆ 29.67     ┆ 1          ┆ 29.69     ┆ 361        ┆ C.N   │\n",
       "│ EST                     ┆              ┆           ┆            ┆           ┆            ┆       │\n",
       "│ 2008-01-02 09:30:04.576 ┆ 39449.60422  ┆ 29.67     ┆ 1          ┆ 29.69     ┆ 356        ┆ C.N   │\n",
       "│ EST                     ┆              ┆           ┆            ┆           ┆            ┆       │\n",
       "│ 2008-01-02 09:30:04.825 ┆ 39449.604223 ┆ 29.67     ┆ 1          ┆ 29.69     ┆ 353        ┆ C.N   │\n",
       "│ EST                     ┆              ┆           ┆            ┆           ┆            ┆       │\n",
       "│ …                       ┆ …            ┆ …         ┆ …          ┆ …         ┆ …          ┆ …     │\n",
       "│ 2008-12-31 16:00:00.069 ┆ 39813.875001 ┆ 29.76     ┆ 237        ┆ 29.81     ┆ 2          ┆ WFC.N │\n",
       "│ EST                     ┆              ┆           ┆            ┆           ┆            ┆       │\n",
       "│ 2008-12-31 16:00:00.093 ┆ 39813.875001 ┆ 29.76     ┆ 237        ┆ 29.84     ┆ 55         ┆ WFC.N │\n",
       "│ EST                     ┆              ┆           ┆            ┆           ┆            ┆       │\n",
       "│ 2008-12-31 16:00:00.192 ┆ 39813.875002 ┆ 29.81     ┆ 3          ┆ 29.84     ┆ 13         ┆ WFC.N │\n",
       "│ EST                     ┆              ┆           ┆            ┆           ┆            ┆       │\n",
       "│ 2008-12-31 16:00:00.374 ┆ 39813.875004 ┆ 29.76     ┆ 237        ┆ 29.84     ┆ 13         ┆ WFC.N │\n",
       "│ EST                     ┆              ┆           ┆            ┆           ┆            ┆       │\n",
       "│ 2008-12-31 16:00:00.572 ┆ 39813.875007 ┆ 29.76     ┆ 237        ┆ 29.78     ┆ 1          ┆ WFC.N │\n",
       "│ EST                     ┆              ┆           ┆            ┆           ┆            ┆       │\n",
       "└─────────────────────────┴──────────────┴───────────┴────────────┴───────────┴────────────┴───────┘"
      ]
     },
     "execution_count": 2,
     "metadata": {},
     "output_type": "execute_result"
    }
   ],
   "source": [
    "raw_bbo_data = pl.read_parquet(\"data/raw_full_bbo_data.parquet\")\n",
    "raw_bbo_data"
   ]
  },
  {
   "cell_type": "code",
   "execution_count": 3,
   "metadata": {},
   "outputs": [
    {
     "name": "stdout",
     "output_type": "stream",
     "text": [
      "[Datetime(time_unit='us', time_zone='America/New_York'), Float64, Float64, Int64, Float64, Int64, String]\n",
      "shape: (7, 3)\n",
      "┌────────────┬─────────────────────────────────┬─────────────────────────────────┐\n",
      "│ column     ┆ data_type                       ┆ Total of Observation for each … │\n",
      "│ ---        ┆ ---                             ┆ ---                             │\n",
      "│ str        ┆ str                             ┆ u32                             │\n",
      "╞════════════╪═════════════════════════════════╪═════════════════════════════════╡\n",
      "│ index      ┆ Datetime(time_unit='us', time_… ┆ 127927147                       │\n",
      "│ xltime     ┆ Float64                         ┆ 127927147                       │\n",
      "│ bid-price  ┆ Float64                         ┆ 127927147                       │\n",
      "│ bid-volume ┆ Int64                           ┆ 127927147                       │\n",
      "│ ask-price  ┆ Float64                         ┆ 127927147                       │\n",
      "│ ask-volume ┆ Int64                           ┆ 127927147                       │\n",
      "│ Stock      ┆ String                          ┆ 127927147                       │\n",
      "└────────────┴─────────────────────────────────┴─────────────────────────────────┘\n"
     ]
    }
   ],
   "source": [
    "# To get data types of columns\n",
    "dtypes_info = raw_bbo_data.dtypes\n",
    "print(dtypes_info)\n",
    "\n",
    "info_raw_bbo_data = pl.DataFrame({\n",
    "    \"column\": raw_bbo_data.columns,\n",
    "    \"data_type\": [str(dtype) for dtype in dtypes_info],\n",
    "    \"Total of Observation for each column\": [raw_bbo_data.select(pl.col(column).count()).to_numpy()[0][0] for column in raw_bbo_data.columns]\n",
    "})\n",
    "\n",
    "print(info_raw_bbo_data)"
   ]
  },
  {
   "cell_type": "code",
   "execution_count": 4,
   "metadata": {},
   "outputs": [
    {
     "name": "stdout",
     "output_type": "stream",
     "text": [
      "Column 'index' has 0 missing values\n",
      "Column 'xltime' has 0 missing values\n",
      "Column 'bid-price' has 0 missing values\n",
      "Column 'bid-volume' has 0 missing values\n",
      "Column 'ask-price' has 0 missing values\n",
      "Column 'ask-volume' has 0 missing values\n",
      "Column 'Stock' has 0 missing values\n"
     ]
    }
   ],
   "source": [
    "# Checking for missing values in each column\n",
    "for column in raw_bbo_data.columns:\n",
    "    null_count = raw_bbo_data[column].is_null().sum()\n",
    "    print(f\"Column '{column}' has {null_count} missing values\")"
   ]
  },
  {
   "cell_type": "code",
   "execution_count": 5,
   "metadata": {},
   "outputs": [],
   "source": [
    "raw_bbo_data = raw_bbo_data.rename({\n",
    "    \"index\": \"timestamp\",\n",
    "    \"bid-price\": \"bid\",\n",
    "    \"ask-price\": \"ask\",\n",
    "    \"bid-volume\": \"bid_volume\",\n",
    "    \"ask-volume\": \"ask_volume\"\n",
    "})"
   ]
  },
  {
   "cell_type": "code",
   "execution_count": 6,
   "metadata": {},
   "outputs": [],
   "source": [
    "dataraw_bbo_data_bbo = raw_bbo_data.with_columns(\n",
    "    pl.col('timestamp').cast(pl.Datetime).alias('timestamp')  # Ensure the 'Time' column is cast to Datetime\n",
    ")\n",
    "raw_bbo_data = raw_bbo_data.with_columns([\n",
    "    # pl.col(\"timestamp\").dt.year().alias(\"Year\"),\n",
    "    # pl.col(\"timestamp\").dt.month().alias(\"Month\"),\n",
    "    pl.col(\"timestamp\").dt.day().alias(\"Day\"),\n",
    "    pl.col(\"timestamp\").dt.hour().alias(\"Hour\"),\n",
    "    pl.col(\"timestamp\").dt.minute().alias(\"Minute\"),\n",
    "    # pl.col(\"timestamp\").dt.second().alias(\"Second\"),\n",
    "])\n",
    "\n"
   ]
  },
  {
   "cell_type": "code",
   "execution_count": 7,
   "metadata": {},
   "outputs": [],
   "source": [
    "dataraw_bbo_data_bbo = raw_bbo_data.with_columns(\n",
    "    pl.col('timestamp').cast(pl.Datetime).alias('timestamp')  # Ensure the 'Time' column is cast to Datetime\n",
    ")"
   ]
  },
  {
   "cell_type": "code",
   "execution_count": 8,
   "metadata": {},
   "outputs": [
    {
     "data": {
      "text/html": [
       "<div><style>\n",
       ".dataframe > thead > tr,\n",
       ".dataframe > tbody > tr {\n",
       "  text-align: right;\n",
       "  white-space: pre-wrap;\n",
       "}\n",
       "</style>\n",
       "<small>shape: (5, 11)</small><table border=\"1\" class=\"dataframe\"><thead><tr><th>timestamp</th><th>xltime</th><th>bid</th><th>bid_volume</th><th>ask</th><th>ask_volume</th><th>Stock</th><th>Day</th><th>Hour</th><th>Minute</th><th>time</th></tr><tr><td>datetime[μs, America/New_York]</td><td>f64</td><td>f64</td><td>i64</td><td>f64</td><td>i64</td><td>str</td><td>i8</td><td>i8</td><td>i8</td><td>str</td></tr></thead><tbody><tr><td>2008-07-01 09:30:00.668999 EDT</td><td>39630.562508</td><td>45.94</td><td>5</td><td>46.25</td><td>1</td><td>&quot;TGT.N&quot;</td><td>1</td><td>9</td><td>30</td><td>&quot;2008-07-01 09:30&quot;</td></tr><tr><td>2008-07-01 09:30:00.736 EDT</td><td>39630.562509</td><td>45.94</td><td>5</td><td>46.05</td><td>2</td><td>&quot;TGT.N&quot;</td><td>1</td><td>9</td><td>30</td><td>&quot;2008-07-01 09:30&quot;</td></tr><tr><td>2008-07-01 09:30:00.872 EDT</td><td>39630.56251</td><td>46.0</td><td>4</td><td>46.05</td><td>2</td><td>&quot;TGT.N&quot;</td><td>1</td><td>9</td><td>30</td><td>&quot;2008-07-01 09:30&quot;</td></tr><tr><td>2008-07-01 09:30:00.948 EDT</td><td>39630.562511</td><td>46.0</td><td>4</td><td>46.13</td><td>4</td><td>&quot;TGT.N&quot;</td><td>1</td><td>9</td><td>30</td><td>&quot;2008-07-01 09:30&quot;</td></tr><tr><td>2008-07-01 09:30:00.959 EDT</td><td>39630.562511</td><td>46.0</td><td>4</td><td>46.1</td><td>2</td><td>&quot;TGT.N&quot;</td><td>1</td><td>9</td><td>30</td><td>&quot;2008-07-01 09:30&quot;</td></tr></tbody></table></div>"
      ],
      "text/plain": [
       "shape: (5, 11)\n",
       "┌───────────────────────┬──────────────┬───────┬────────────┬───┬─────┬──────┬────────┬────────────┐\n",
       "│ timestamp             ┆ xltime       ┆ bid   ┆ bid_volume ┆ … ┆ Day ┆ Hour ┆ Minute ┆ time       │\n",
       "│ ---                   ┆ ---          ┆ ---   ┆ ---        ┆   ┆ --- ┆ ---  ┆ ---    ┆ ---        │\n",
       "│ datetime[μs,          ┆ f64          ┆ f64   ┆ i64        ┆   ┆ i8  ┆ i8   ┆ i8     ┆ str        │\n",
       "│ America/New_York]     ┆              ┆       ┆            ┆   ┆     ┆      ┆        ┆            │\n",
       "╞═══════════════════════╪══════════════╪═══════╪════════════╪═══╪═════╪══════╪════════╪════════════╡\n",
       "│ 2008-07-01            ┆ 39630.562508 ┆ 45.94 ┆ 5          ┆ … ┆ 1   ┆ 9    ┆ 30     ┆ 2008-07-01 │\n",
       "│ 09:30:00.668999 EDT   ┆              ┆       ┆            ┆   ┆     ┆      ┆        ┆ 09:30      │\n",
       "│ 2008-07-01            ┆ 39630.562509 ┆ 45.94 ┆ 5          ┆ … ┆ 1   ┆ 9    ┆ 30     ┆ 2008-07-01 │\n",
       "│ 09:30:00.736 EDT      ┆              ┆       ┆            ┆   ┆     ┆      ┆        ┆ 09:30      │\n",
       "│ 2008-07-01            ┆ 39630.56251  ┆ 46.0  ┆ 4          ┆ … ┆ 1   ┆ 9    ┆ 30     ┆ 2008-07-01 │\n",
       "│ 09:30:00.872 EDT      ┆              ┆       ┆            ┆   ┆     ┆      ┆        ┆ 09:30      │\n",
       "│ 2008-07-01            ┆ 39630.562511 ┆ 46.0  ┆ 4          ┆ … ┆ 1   ┆ 9    ┆ 30     ┆ 2008-07-01 │\n",
       "│ 09:30:00.948 EDT      ┆              ┆       ┆            ┆   ┆     ┆      ┆        ┆ 09:30      │\n",
       "│ 2008-07-01            ┆ 39630.562511 ┆ 46.0  ┆ 4          ┆ … ┆ 1   ┆ 9    ┆ 30     ┆ 2008-07-01 │\n",
       "│ 09:30:00.959 EDT      ┆              ┆       ┆            ┆   ┆     ┆      ┆        ┆ 09:30      │\n",
       "└───────────────────────┴──────────────┴───────┴────────────┴───┴─────┴──────┴────────┴────────────┘"
      ]
     },
     "execution_count": 8,
     "metadata": {},
     "output_type": "execute_result"
    }
   ],
   "source": [
    "raw_bbo_data = raw_bbo_data.with_columns(\n",
    "    raw_bbo_data['timestamp'].dt.strftime('%Y-%m-%d %H:%M').alias('time')\n",
    ")\n",
    "\n",
    "raw_bbo_data.head(5)"
   ]
  },
  {
   "cell_type": "code",
   "execution_count": 9,
   "metadata": {},
   "outputs": [
    {
     "data": {
      "text/html": [
       "<div><style>\n",
       ".dataframe > thead > tr,\n",
       ".dataframe > tbody > tr {\n",
       "  text-align: right;\n",
       "  white-space: pre-wrap;\n",
       "}\n",
       "</style>\n",
       "<small>shape: (5, 13)</small><table border=\"1\" class=\"dataframe\"><thead><tr><th>timestamp</th><th>xltime</th><th>bid</th><th>bid_volume</th><th>ask</th><th>ask_volume</th><th>Stock</th><th>Day</th><th>Hour</th><th>Minute</th><th>time</th><th>bid_price_volume</th><th>ask_price_volume</th></tr><tr><td>datetime[μs, America/New_York]</td><td>f64</td><td>f64</td><td>i64</td><td>f64</td><td>i64</td><td>str</td><td>i8</td><td>i8</td><td>i8</td><td>str</td><td>f64</td><td>f64</td></tr></thead><tbody><tr><td>2008-07-01 09:30:00.668999 EDT</td><td>39630.562508</td><td>45.94</td><td>5</td><td>46.25</td><td>1</td><td>&quot;TGT.N&quot;</td><td>1</td><td>9</td><td>30</td><td>&quot;2008-07-01 09:30&quot;</td><td>229.7</td><td>46.25</td></tr><tr><td>2008-07-01 09:30:00.736 EDT</td><td>39630.562509</td><td>45.94</td><td>5</td><td>46.05</td><td>2</td><td>&quot;TGT.N&quot;</td><td>1</td><td>9</td><td>30</td><td>&quot;2008-07-01 09:30&quot;</td><td>229.7</td><td>92.1</td></tr><tr><td>2008-07-01 09:30:00.872 EDT</td><td>39630.56251</td><td>46.0</td><td>4</td><td>46.05</td><td>2</td><td>&quot;TGT.N&quot;</td><td>1</td><td>9</td><td>30</td><td>&quot;2008-07-01 09:30&quot;</td><td>184.0</td><td>92.1</td></tr><tr><td>2008-07-01 09:30:00.948 EDT</td><td>39630.562511</td><td>46.0</td><td>4</td><td>46.13</td><td>4</td><td>&quot;TGT.N&quot;</td><td>1</td><td>9</td><td>30</td><td>&quot;2008-07-01 09:30&quot;</td><td>184.0</td><td>184.52</td></tr><tr><td>2008-07-01 09:30:00.959 EDT</td><td>39630.562511</td><td>46.0</td><td>4</td><td>46.1</td><td>2</td><td>&quot;TGT.N&quot;</td><td>1</td><td>9</td><td>30</td><td>&quot;2008-07-01 09:30&quot;</td><td>184.0</td><td>92.2</td></tr></tbody></table></div>"
      ],
      "text/plain": [
       "shape: (5, 13)\n",
       "┌────────────┬────────────┬───────┬────────────┬───┬────────┬────────────┬────────────┬────────────┐\n",
       "│ timestamp  ┆ xltime     ┆ bid   ┆ bid_volume ┆ … ┆ Minute ┆ time       ┆ bid_price_ ┆ ask_price_ │\n",
       "│ ---        ┆ ---        ┆ ---   ┆ ---        ┆   ┆ ---    ┆ ---        ┆ volume     ┆ volume     │\n",
       "│ datetime[μ ┆ f64        ┆ f64   ┆ i64        ┆   ┆ i8     ┆ str        ┆ ---        ┆ ---        │\n",
       "│ s, America ┆            ┆       ┆            ┆   ┆        ┆            ┆ f64        ┆ f64        │\n",
       "│ /New_York] ┆            ┆       ┆            ┆   ┆        ┆            ┆            ┆            │\n",
       "╞════════════╪════════════╪═══════╪════════════╪═══╪════════╪════════════╪════════════╪════════════╡\n",
       "│ 2008-07-01 ┆ 39630.5625 ┆ 45.94 ┆ 5          ┆ … ┆ 30     ┆ 2008-07-01 ┆ 229.7      ┆ 46.25      │\n",
       "│ 09:30:00.6 ┆ 08         ┆       ┆            ┆   ┆        ┆ 09:30      ┆            ┆            │\n",
       "│ 68999 EDT  ┆            ┆       ┆            ┆   ┆        ┆            ┆            ┆            │\n",
       "│ 2008-07-01 ┆ 39630.5625 ┆ 45.94 ┆ 5          ┆ … ┆ 30     ┆ 2008-07-01 ┆ 229.7      ┆ 92.1       │\n",
       "│ 09:30:00.7 ┆ 09         ┆       ┆            ┆   ┆        ┆ 09:30      ┆            ┆            │\n",
       "│ 36 EDT     ┆            ┆       ┆            ┆   ┆        ┆            ┆            ┆            │\n",
       "│ 2008-07-01 ┆ 39630.5625 ┆ 46.0  ┆ 4          ┆ … ┆ 30     ┆ 2008-07-01 ┆ 184.0      ┆ 92.1       │\n",
       "│ 09:30:00.8 ┆ 1          ┆       ┆            ┆   ┆        ┆ 09:30      ┆            ┆            │\n",
       "│ 72 EDT     ┆            ┆       ┆            ┆   ┆        ┆            ┆            ┆            │\n",
       "│ 2008-07-01 ┆ 39630.5625 ┆ 46.0  ┆ 4          ┆ … ┆ 30     ┆ 2008-07-01 ┆ 184.0      ┆ 184.52     │\n",
       "│ 09:30:00.9 ┆ 11         ┆       ┆            ┆   ┆        ┆ 09:30      ┆            ┆            │\n",
       "│ 48 EDT     ┆            ┆       ┆            ┆   ┆        ┆            ┆            ┆            │\n",
       "│ 2008-07-01 ┆ 39630.5625 ┆ 46.0  ┆ 4          ┆ … ┆ 30     ┆ 2008-07-01 ┆ 184.0      ┆ 92.2       │\n",
       "│ 09:30:00.9 ┆ 11         ┆       ┆            ┆   ┆        ┆ 09:30      ┆            ┆            │\n",
       "│ 59 EDT     ┆            ┆       ┆            ┆   ┆        ┆            ┆            ┆            │\n",
       "└────────────┴────────────┴───────┴────────────┴───┴────────┴────────────┴────────────┴────────────┘"
      ]
     },
     "execution_count": 9,
     "metadata": {},
     "output_type": "execute_result"
    }
   ],
   "source": [
    "raw_bbo_data = raw_bbo_data.with_columns(\n",
    "        (pl.col('bid') * pl.col('bid_volume')).alias(\"bid_price_volume\"),\n",
    "        (pl.col('ask') * pl.col('ask_volume')).alias(\"ask_price_volume\")\n",
    "    )\n",
    "\n",
    "raw_bbo_data.head()"
   ]
  },
  {
   "cell_type": "code",
   "execution_count": 10,
   "metadata": {},
   "outputs": [
    {
     "data": {
      "text/html": [
       "<div><style>\n",
       ".dataframe > thead > tr,\n",
       ".dataframe > tbody > tr {\n",
       "  text-align: right;\n",
       "  white-space: pre-wrap;\n",
       "}\n",
       "</style>\n",
       "<small>shape: (5, 4)</small><table border=\"1\" class=\"dataframe\"><thead><tr><th>time</th><th>Stock</th><th>bid_vwa</th><th>ask_vwa</th></tr><tr><td>str</td><td>str</td><td>f64</td><td>f64</td></tr></thead><tbody><tr><td>&quot;2008-09-04 13:16&quot;</td><td>&quot;HON.N&quot;</td><td>48.200068</td><td>48.220236</td></tr><tr><td>&quot;2008-12-12 11:54&quot;</td><td>&quot;HON.N&quot;</td><td>27.613543</td><td>27.653178</td></tr><tr><td>&quot;2008-12-22 14:05&quot;</td><td>&quot;HON.N&quot;</td><td>31.806728</td><td>31.835496</td></tr><tr><td>&quot;2008-08-08 13:46&quot;</td><td>&quot;NOV.N&quot;</td><td>71.869904</td><td>71.936477</td></tr><tr><td>&quot;2008-12-18 13:01&quot;</td><td>&quot;TGT.N&quot;</td><td>36.40192</td><td>36.435714</td></tr></tbody></table></div>"
      ],
      "text/plain": [
       "shape: (5, 4)\n",
       "┌──────────────────┬───────┬───────────┬───────────┐\n",
       "│ time             ┆ Stock ┆ bid_vwa   ┆ ask_vwa   │\n",
       "│ ---              ┆ ---   ┆ ---       ┆ ---       │\n",
       "│ str              ┆ str   ┆ f64       ┆ f64       │\n",
       "╞══════════════════╪═══════╪═══════════╪═══════════╡\n",
       "│ 2008-09-04 13:16 ┆ HON.N ┆ 48.200068 ┆ 48.220236 │\n",
       "│ 2008-12-12 11:54 ┆ HON.N ┆ 27.613543 ┆ 27.653178 │\n",
       "│ 2008-12-22 14:05 ┆ HON.N ┆ 31.806728 ┆ 31.835496 │\n",
       "│ 2008-08-08 13:46 ┆ NOV.N ┆ 71.869904 ┆ 71.936477 │\n",
       "│ 2008-12-18 13:01 ┆ TGT.N ┆ 36.40192  ┆ 36.435714 │\n",
       "└──────────────────┴───────┴───────────┴───────────┘"
      ]
     },
     "execution_count": 10,
     "metadata": {},
     "output_type": "execute_result"
    }
   ],
   "source": [
    "aggregate_bbo_data = raw_bbo_data.group_by([\"time\", \"Stock\"]).agg([\n",
    "    (pl.sum(\"bid_price_volume\") / pl.sum(\"bid_volume\")).alias(\"bid_vwa\"),\n",
    "    (pl.sum(\"ask_price_volume\") / pl.sum(\"ask_volume\")).alias(\"ask_vwa\")\n",
    "])\n",
    "\n",
    "aggregate_bbo_data.head(5)\n"
   ]
  },
  {
   "cell_type": "code",
   "execution_count": 11,
   "metadata": {},
   "outputs": [
    {
     "data": {
      "text/html": [
       "<div><style>\n",
       ".dataframe > thead > tr,\n",
       ".dataframe > tbody > tr {\n",
       "  text-align: right;\n",
       "  white-space: pre-wrap;\n",
       "}\n",
       "</style>\n",
       "<small>shape: (5, 5)</small><table border=\"1\" class=\"dataframe\"><thead><tr><th>time</th><th>Stock</th><th>bid_vwa</th><th>ask_vwa</th><th>vwap_mid_price</th></tr><tr><td>str</td><td>str</td><td>f64</td><td>f64</td><td>f64</td></tr></thead><tbody><tr><td>&quot;2008-09-04 13:16&quot;</td><td>&quot;HON.N&quot;</td><td>48.200068</td><td>48.220236</td><td>48.210152</td></tr><tr><td>&quot;2008-12-12 11:54&quot;</td><td>&quot;HON.N&quot;</td><td>27.613543</td><td>27.653178</td><td>27.633361</td></tr><tr><td>&quot;2008-12-22 14:05&quot;</td><td>&quot;HON.N&quot;</td><td>31.806728</td><td>31.835496</td><td>31.821112</td></tr><tr><td>&quot;2008-08-08 13:46&quot;</td><td>&quot;NOV.N&quot;</td><td>71.869904</td><td>71.936477</td><td>71.903191</td></tr><tr><td>&quot;2008-12-18 13:01&quot;</td><td>&quot;TGT.N&quot;</td><td>36.40192</td><td>36.435714</td><td>36.418817</td></tr></tbody></table></div>"
      ],
      "text/plain": [
       "shape: (5, 5)\n",
       "┌──────────────────┬───────┬───────────┬───────────┬────────────────┐\n",
       "│ time             ┆ Stock ┆ bid_vwa   ┆ ask_vwa   ┆ vwap_mid_price │\n",
       "│ ---              ┆ ---   ┆ ---       ┆ ---       ┆ ---            │\n",
       "│ str              ┆ str   ┆ f64       ┆ f64       ┆ f64            │\n",
       "╞══════════════════╪═══════╪═══════════╪═══════════╪════════════════╡\n",
       "│ 2008-09-04 13:16 ┆ HON.N ┆ 48.200068 ┆ 48.220236 ┆ 48.210152      │\n",
       "│ 2008-12-12 11:54 ┆ HON.N ┆ 27.613543 ┆ 27.653178 ┆ 27.633361      │\n",
       "│ 2008-12-22 14:05 ┆ HON.N ┆ 31.806728 ┆ 31.835496 ┆ 31.821112      │\n",
       "│ 2008-08-08 13:46 ┆ NOV.N ┆ 71.869904 ┆ 71.936477 ┆ 71.903191      │\n",
       "│ 2008-12-18 13:01 ┆ TGT.N ┆ 36.40192  ┆ 36.435714 ┆ 36.418817      │\n",
       "└──────────────────┴───────┴───────────┴───────────┴────────────────┘"
      ]
     },
     "execution_count": 11,
     "metadata": {},
     "output_type": "execute_result"
    }
   ],
   "source": [
    "aggregate_bbo_data = aggregate_bbo_data.with_columns(\n",
    "        ((pl.col('bid_vwa') + pl.col('ask_vwa')) / 2).alias(\"vwap_mid_price\")\n",
    "    )\n",
    "\n",
    "aggregate_bbo_data.head(5)"
   ]
  },
  {
   "cell_type": "code",
   "execution_count": 12,
   "metadata": {},
   "outputs": [],
   "source": [
    "aggregate_bbo_data.write_parquet(\"data/clean_small_bbo_data.parquet\")"
   ]
  },
  {
   "cell_type": "code",
   "execution_count": 13,
   "metadata": {},
   "outputs": [
    {
     "name": "stderr",
     "output_type": "stream",
     "text": [
      "/var/folders/cg/lm106ggx1z59db7x0_wgfghm0000gn/T/ipykernel_18757/2993530113.py:7: DeprecationWarning: `pl.count()` is deprecated. Please use `pl.len()` instead.\n",
      "  .agg(pl.count())  # Count rows in each group\n"
     ]
    }
   ],
   "source": [
    "result = (\n",
    "    aggregate_bbo_data\n",
    "    .with_columns(\n",
    "        (pl.col(\"time\").str.slice(0, 10)).alias(\"month\")  # Extract year and month as 'YYYY-MM'\n",
    "    )\n",
    "    .group_by([\"Stock\", \"month\"])  # Group by Stock and extracted month\n",
    "    .agg(pl.count())  # Count rows in each group\n",
    "    .sort([\"Stock\", \"month\"])  # Sort by Stock and month\n",
    ")\n"
   ]
  },
  {
   "cell_type": "markdown",
   "metadata": {},
   "source": [
    "### Compare sizes"
   ]
  },
  {
   "cell_type": "code",
   "execution_count": 14,
   "metadata": {},
   "outputs": [
    {
     "data": {
      "text/html": [
       "<div><style>\n",
       ".dataframe > thead > tr,\n",
       ".dataframe > tbody > tr {\n",
       "  text-align: right;\n",
       "  white-space: pre-wrap;\n",
       "}\n",
       "</style>\n",
       "<small>shape: (512, 3)</small><table border=\"1\" class=\"dataframe\"><thead><tr><th>Stock</th><th>month</th><th>count</th></tr><tr><td>str</td><td>str</td><td>u32</td></tr></thead><tbody><tr><td>&quot;GE.N&quot;</td><td>&quot;2008-07-01&quot;</td><td>391</td></tr><tr><td>&quot;GE.N&quot;</td><td>&quot;2008-07-02&quot;</td><td>391</td></tr><tr><td>&quot;GE.N&quot;</td><td>&quot;2008-07-03&quot;</td><td>213</td></tr><tr><td>&quot;GE.N&quot;</td><td>&quot;2008-07-07&quot;</td><td>391</td></tr><tr><td>&quot;GE.N&quot;</td><td>&quot;2008-07-08&quot;</td><td>391</td></tr><tr><td>&hellip;</td><td>&hellip;</td><td>&hellip;</td></tr><tr><td>&quot;TGT.N&quot;</td><td>&quot;2008-12-24&quot;</td><td>212</td></tr><tr><td>&quot;TGT.N&quot;</td><td>&quot;2008-12-26&quot;</td><td>390</td></tr><tr><td>&quot;TGT.N&quot;</td><td>&quot;2008-12-29&quot;</td><td>391</td></tr><tr><td>&quot;TGT.N&quot;</td><td>&quot;2008-12-30&quot;</td><td>391</td></tr><tr><td>&quot;TGT.N&quot;</td><td>&quot;2008-12-31&quot;</td><td>391</td></tr></tbody></table></div>"
      ],
      "text/plain": [
       "shape: (512, 3)\n",
       "┌───────┬────────────┬───────┐\n",
       "│ Stock ┆ month      ┆ count │\n",
       "│ ---   ┆ ---        ┆ ---   │\n",
       "│ str   ┆ str        ┆ u32   │\n",
       "╞═══════╪════════════╪═══════╡\n",
       "│ GE.N  ┆ 2008-07-01 ┆ 391   │\n",
       "│ GE.N  ┆ 2008-07-02 ┆ 391   │\n",
       "│ GE.N  ┆ 2008-07-03 ┆ 213   │\n",
       "│ GE.N  ┆ 2008-07-07 ┆ 391   │\n",
       "│ GE.N  ┆ 2008-07-08 ┆ 391   │\n",
       "│ …     ┆ …          ┆ …     │\n",
       "│ TGT.N ┆ 2008-12-24 ┆ 212   │\n",
       "│ TGT.N ┆ 2008-12-26 ┆ 390   │\n",
       "│ TGT.N ┆ 2008-12-29 ┆ 391   │\n",
       "│ TGT.N ┆ 2008-12-30 ┆ 391   │\n",
       "│ TGT.N ┆ 2008-12-31 ┆ 391   │\n",
       "└───────┴────────────┴───────┘"
      ]
     },
     "execution_count": 14,
     "metadata": {},
     "output_type": "execute_result"
    }
   ],
   "source": [
    "result"
   ]
  },
  {
   "cell_type": "code",
   "execution_count": 15,
   "metadata": {},
   "outputs": [],
   "source": [
    "result.write_parquet(\"data/results_small_aggregation.parquet\")"
   ]
  },
  {
   "cell_type": "code",
   "execution_count": 16,
   "metadata": {},
   "outputs": [
    {
     "data": {
      "text/html": [
       "<div><style>\n",
       ".dataframe > thead > tr,\n",
       ".dataframe > tbody > tr {\n",
       "  text-align: right;\n",
       "  white-space: pre-wrap;\n",
       "}\n",
       "</style>\n",
       "<small>shape: (197_468, 5)</small><table border=\"1\" class=\"dataframe\"><thead><tr><th>time</th><th>Stock</th><th>bid_vwa</th><th>ask_vwa</th><th>vwap_mid_price</th></tr><tr><td>str</td><td>str</td><td>f64</td><td>f64</td><td>f64</td></tr></thead><tbody><tr><td>&quot;2008-09-04 13:16&quot;</td><td>&quot;HON.N&quot;</td><td>48.200068</td><td>48.220236</td><td>48.210152</td></tr><tr><td>&quot;2008-12-12 11:54&quot;</td><td>&quot;HON.N&quot;</td><td>27.613543</td><td>27.653178</td><td>27.633361</td></tr><tr><td>&quot;2008-12-22 14:05&quot;</td><td>&quot;HON.N&quot;</td><td>31.806728</td><td>31.835496</td><td>31.821112</td></tr><tr><td>&quot;2008-08-08 13:46&quot;</td><td>&quot;NOV.N&quot;</td><td>71.869904</td><td>71.936477</td><td>71.903191</td></tr><tr><td>&quot;2008-12-18 13:01&quot;</td><td>&quot;TGT.N&quot;</td><td>36.40192</td><td>36.435714</td><td>36.418817</td></tr><tr><td>&hellip;</td><td>&hellip;</td><td>&hellip;</td><td>&hellip;</td><td>&hellip;</td></tr><tr><td>&quot;2008-08-08 12:22&quot;</td><td>&quot;GE.N&quot;</td><td>29.430693</td><td>29.446435</td><td>29.438564</td></tr><tr><td>&quot;2008-12-23 12:55&quot;</td><td>&quot;HON.N&quot;</td><td>31.202105</td><td>31.239639</td><td>31.220872</td></tr><tr><td>&quot;2008-11-26 15:48&quot;</td><td>&quot;TGT.N&quot;</td><td>35.196349</td><td>35.244894</td><td>35.220622</td></tr><tr><td>&quot;2008-10-17 12:33&quot;</td><td>&quot;GE.N&quot;</td><td>19.788399</td><td>19.801688</td><td>19.795043</td></tr><tr><td>&quot;2008-12-23 10:09&quot;</td><td>&quot;GE.N&quot;</td><td>16.271686</td><td>16.290312</td><td>16.280999</td></tr></tbody></table></div>"
      ],
      "text/plain": [
       "shape: (197_468, 5)\n",
       "┌──────────────────┬───────┬───────────┬───────────┬────────────────┐\n",
       "│ time             ┆ Stock ┆ bid_vwa   ┆ ask_vwa   ┆ vwap_mid_price │\n",
       "│ ---              ┆ ---   ┆ ---       ┆ ---       ┆ ---            │\n",
       "│ str              ┆ str   ┆ f64       ┆ f64       ┆ f64            │\n",
       "╞══════════════════╪═══════╪═══════════╪═══════════╪════════════════╡\n",
       "│ 2008-09-04 13:16 ┆ HON.N ┆ 48.200068 ┆ 48.220236 ┆ 48.210152      │\n",
       "│ 2008-12-12 11:54 ┆ HON.N ┆ 27.613543 ┆ 27.653178 ┆ 27.633361      │\n",
       "│ 2008-12-22 14:05 ┆ HON.N ┆ 31.806728 ┆ 31.835496 ┆ 31.821112      │\n",
       "│ 2008-08-08 13:46 ┆ NOV.N ┆ 71.869904 ┆ 71.936477 ┆ 71.903191      │\n",
       "│ 2008-12-18 13:01 ┆ TGT.N ┆ 36.40192  ┆ 36.435714 ┆ 36.418817      │\n",
       "│ …                ┆ …     ┆ …         ┆ …         ┆ …              │\n",
       "│ 2008-08-08 12:22 ┆ GE.N  ┆ 29.430693 ┆ 29.446435 ┆ 29.438564      │\n",
       "│ 2008-12-23 12:55 ┆ HON.N ┆ 31.202105 ┆ 31.239639 ┆ 31.220872      │\n",
       "│ 2008-11-26 15:48 ┆ TGT.N ┆ 35.196349 ┆ 35.244894 ┆ 35.220622      │\n",
       "│ 2008-10-17 12:33 ┆ GE.N  ┆ 19.788399 ┆ 19.801688 ┆ 19.795043      │\n",
       "│ 2008-12-23 10:09 ┆ GE.N  ┆ 16.271686 ┆ 16.290312 ┆ 16.280999      │\n",
       "└──────────────────┴───────┴───────────┴───────────┴────────────────┘"
      ]
     },
     "execution_count": 16,
     "metadata": {},
     "output_type": "execute_result"
    }
   ],
   "source": [
    "aggregate_bbo_data"
   ]
  }
 ],
 "metadata": {
  "kernelspec": {
   "display_name": ".venv",
   "language": "python",
   "name": "python3"
  },
  "language_info": {
   "codemirror_mode": {
    "name": "ipython",
    "version": 3
   },
   "file_extension": ".py",
   "mimetype": "text/x-python",
   "name": "python",
   "nbconvert_exporter": "python",
   "pygments_lexer": "ipython3",
   "version": "3.12.6"
  }
 },
 "nbformat": 4,
 "nbformat_minor": 2
}
