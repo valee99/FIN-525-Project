{
 "cells": [
  {
   "cell_type": "code",
   "execution_count": 1,
   "metadata": {},
   "outputs": [],
   "source": [
    "import polars as pl"
   ]
  },
  {
   "cell_type": "code",
   "execution_count": 2,
   "metadata": {},
   "outputs": [
    {
     "data": {
      "text/html": [
       "<div><style>\n",
       ".dataframe > thead > tr,\n",
       ".dataframe > tbody > tr {\n",
       "  text-align: right;\n",
       "  white-space: pre-wrap;\n",
       "}\n",
       "</style>\n",
       "<small>shape: (5, 7)</small><table border=\"1\" class=\"dataframe\"><thead><tr><th>index</th><th>xltime</th><th>bid-price</th><th>bid-volume</th><th>ask-price</th><th>ask-volume</th><th>Stock</th></tr><tr><td>datetime[μs, America/New_York]</td><td>f64</td><td>f64</td><td>i64</td><td>f64</td><td>i64</td><td>str</td></tr></thead><tbody><tr><td>2008-01-02 09:30:04.132 EST</td><td>39449.604214</td><td>29.68</td><td>1</td><td>29.69</td><td>373</td><td>&quot;C.N&quot;</td></tr><tr><td>2008-01-02 09:30:04.334 EST</td><td>39449.604217</td><td>29.68</td><td>1</td><td>29.69</td><td>372</td><td>&quot;C.N&quot;</td></tr><tr><td>2008-01-02 09:30:04.423 EST</td><td>39449.604218</td><td>29.67</td><td>1</td><td>29.69</td><td>361</td><td>&quot;C.N&quot;</td></tr><tr><td>2008-01-02 09:30:04.576 EST</td><td>39449.60422</td><td>29.67</td><td>1</td><td>29.69</td><td>356</td><td>&quot;C.N&quot;</td></tr><tr><td>2008-01-02 09:30:04.825 EST</td><td>39449.604223</td><td>29.67</td><td>1</td><td>29.69</td><td>353</td><td>&quot;C.N&quot;</td></tr></tbody></table></div>"
      ],
      "text/plain": [
       "shape: (5, 7)\n",
       "┌─────────────────────────┬──────────────┬───────────┬────────────┬───────────┬────────────┬───────┐\n",
       "│ index                   ┆ xltime       ┆ bid-price ┆ bid-volume ┆ ask-price ┆ ask-volume ┆ Stock │\n",
       "│ ---                     ┆ ---          ┆ ---       ┆ ---        ┆ ---       ┆ ---        ┆ ---   │\n",
       "│ datetime[μs,            ┆ f64          ┆ f64       ┆ i64        ┆ f64       ┆ i64        ┆ str   │\n",
       "│ America/New_York]       ┆              ┆           ┆            ┆           ┆            ┆       │\n",
       "╞═════════════════════════╪══════════════╪═══════════╪════════════╪═══════════╪════════════╪═══════╡\n",
       "│ 2008-01-02 09:30:04.132 ┆ 39449.604214 ┆ 29.68     ┆ 1          ┆ 29.69     ┆ 373        ┆ C.N   │\n",
       "│ EST                     ┆              ┆           ┆            ┆           ┆            ┆       │\n",
       "│ 2008-01-02 09:30:04.334 ┆ 39449.604217 ┆ 29.68     ┆ 1          ┆ 29.69     ┆ 372        ┆ C.N   │\n",
       "│ EST                     ┆              ┆           ┆            ┆           ┆            ┆       │\n",
       "│ 2008-01-02 09:30:04.423 ┆ 39449.604218 ┆ 29.67     ┆ 1          ┆ 29.69     ┆ 361        ┆ C.N   │\n",
       "│ EST                     ┆              ┆           ┆            ┆           ┆            ┆       │\n",
       "│ 2008-01-02 09:30:04.576 ┆ 39449.60422  ┆ 29.67     ┆ 1          ┆ 29.69     ┆ 356        ┆ C.N   │\n",
       "│ EST                     ┆              ┆           ┆            ┆           ┆            ┆       │\n",
       "│ 2008-01-02 09:30:04.825 ┆ 39449.604223 ┆ 29.67     ┆ 1          ┆ 29.69     ┆ 353        ┆ C.N   │\n",
       "│ EST                     ┆              ┆           ┆            ┆           ┆            ┆       │\n",
       "└─────────────────────────┴──────────────┴───────────┴────────────┴───────────┴────────────┴───────┘"
      ]
     },
     "execution_count": 2,
     "metadata": {},
     "output_type": "execute_result"
    }
   ],
   "source": [
    "raw_bbo_data = pl.read_parquet(\"data/raw_bbo_data_1.parquet\")\n",
    "raw_bbo_data.head()"
   ]
  },
  {
   "cell_type": "code",
   "execution_count": 3,
   "metadata": {},
   "outputs": [
    {
     "name": "stdout",
     "output_type": "stream",
     "text": [
      "[Datetime(time_unit='us', time_zone='America/New_York'), Float64, Float64, Int64, Float64, Int64, String]\n",
      "shape: (7, 3)\n",
      "┌────────────┬─────────────────────────────────┬─────────────────────────────────┐\n",
      "│ column     ┆ data_type                       ┆ Total of Observation for each … │\n",
      "│ ---        ┆ ---                             ┆ ---                             │\n",
      "│ str        ┆ str                             ┆ u32                             │\n",
      "╞════════════╪═════════════════════════════════╪═════════════════════════════════╡\n",
      "│ index      ┆ Datetime(time_unit='us', time_… ┆ 127927147                       │\n",
      "│ xltime     ┆ Float64                         ┆ 127927147                       │\n",
      "│ bid-price  ┆ Float64                         ┆ 127927147                       │\n",
      "│ bid-volume ┆ Int64                           ┆ 127927147                       │\n",
      "│ ask-price  ┆ Float64                         ┆ 127927147                       │\n",
      "│ ask-volume ┆ Int64                           ┆ 127927147                       │\n",
      "│ Stock      ┆ String                          ┆ 127927147                       │\n",
      "└────────────┴─────────────────────────────────┴─────────────────────────────────┘\n"
     ]
    }
   ],
   "source": [
    "# To get data types of columns\n",
    "dtypes_info = raw_bbo_data.dtypes\n",
    "print(dtypes_info)\n",
    "\n",
    "info_raw_bbo_data = pl.DataFrame({\n",
    "    \"column\": raw_bbo_data.columns,\n",
    "    \"data_type\": [str(dtype) for dtype in dtypes_info],\n",
    "    \"Total of Observation for each column\": [raw_bbo_data.select(pl.col(column).count()).to_numpy()[0][0] for column in raw_bbo_data.columns]\n",
    "})\n",
    "\n",
    "print(info_raw_bbo_data)"
   ]
  },
  {
   "cell_type": "code",
   "execution_count": 4,
   "metadata": {},
   "outputs": [
    {
     "name": "stdout",
     "output_type": "stream",
     "text": [
      "Column 'index' has 0 missing values\n",
      "Column 'xltime' has 0 missing values\n",
      "Column 'bid-price' has 0 missing values\n",
      "Column 'bid-volume' has 0 missing values\n",
      "Column 'ask-price' has 0 missing values\n",
      "Column 'ask-volume' has 0 missing values\n",
      "Column 'Stock' has 0 missing values\n"
     ]
    }
   ],
   "source": [
    "# Checking for missing values in each column\n",
    "for column in raw_bbo_data.columns:\n",
    "    null_count = raw_bbo_data[column].is_null().sum()\n",
    "    print(f\"Column '{column}' has {null_count} missing values\")"
   ]
  },
  {
   "cell_type": "code",
   "execution_count": 5,
   "metadata": {},
   "outputs": [],
   "source": [
    "raw_bbo_data = raw_bbo_data.rename({\n",
    "    \"index\": \"timestamp\",\n",
    "    \"bid-price\": \"bid\",\n",
    "    \"ask-price\": \"ask\",\n",
    "    \"bid-volume\": \"bid_volume\",\n",
    "    \"ask-volume\": \"ask_volume\"\n",
    "})"
   ]
  },
  {
   "cell_type": "code",
   "execution_count": 6,
   "metadata": {},
   "outputs": [
    {
     "ename": "",
     "evalue": "",
     "output_type": "error",
     "traceback": [
      "\u001b[1;31mCannot execute code, session has been disposed. Please try restarting the Kernel."
     ]
    },
    {
     "ename": "",
     "evalue": "",
     "output_type": "error",
     "traceback": [
      "\u001b[1;31mCannot execute code, session has been disposed. Please try restarting the Kernel. \n",
      "\u001b[1;31mView Jupyter <a href='command:jupyter.viewOutput'>log</a> for further details."
     ]
    }
   ],
   "source": [
    "dataraw_bbo_data_bbo = raw_bbo_data.with_columns(\n",
    "    pl.col('timestamp').cast(pl.Datetime).alias('timestamp')  # Ensure the 'Time' column is cast to Datetime\n",
    ")\n",
    "raw_bbo_data = raw_bbo_data.with_columns([\n",
    "    # pl.col(\"timestamp\").dt.year().alias(\"Year\"),\n",
    "    # pl.col(\"timestamp\").dt.month().alias(\"Month\"),\n",
    "    pl.col(\"timestamp\").dt.day().alias(\"Day\"),\n",
    "    pl.col(\"timestamp\").dt.hour().alias(\"Hour\"),\n",
    "    pl.col(\"timestamp\").dt.minute().alias(\"Minute\"),\n",
    "    # pl.col(\"timestamp\").dt.second().alias(\"Second\"),\n",
    "])\n",
    "\n"
   ]
  },
  {
   "cell_type": "code",
   "execution_count": 6,
   "metadata": {},
   "outputs": [],
   "source": [
    "dataraw_bbo_data_bbo = raw_bbo_data.with_columns(\n",
    "    pl.col('timestamp').cast(pl.Datetime).alias('timestamp')  # Ensure the 'Time' column is cast to Datetime\n",
    ")"
   ]
  },
  {
   "cell_type": "code",
   "execution_count": 7,
   "metadata": {},
   "outputs": [
    {
     "data": {
      "text/html": [
       "<div><style>\n",
       ".dataframe > thead > tr,\n",
       ".dataframe > tbody > tr {\n",
       "  text-align: right;\n",
       "  white-space: pre-wrap;\n",
       "}\n",
       "</style>\n",
       "<small>shape: (5, 8)</small><table border=\"1\" class=\"dataframe\"><thead><tr><th>timestamp</th><th>xltime</th><th>bid</th><th>bid_volume</th><th>ask</th><th>ask_volume</th><th>Stock</th><th>time</th></tr><tr><td>datetime[μs, America/New_York]</td><td>f64</td><td>f64</td><td>i64</td><td>f64</td><td>i64</td><td>str</td><td>str</td></tr></thead><tbody><tr><td>2008-01-02 09:30:04.132 EST</td><td>39449.604214</td><td>29.68</td><td>1</td><td>29.69</td><td>373</td><td>&quot;C.N&quot;</td><td>&quot;2008-01-02 09:30&quot;</td></tr><tr><td>2008-01-02 09:30:04.334 EST</td><td>39449.604217</td><td>29.68</td><td>1</td><td>29.69</td><td>372</td><td>&quot;C.N&quot;</td><td>&quot;2008-01-02 09:30&quot;</td></tr><tr><td>2008-01-02 09:30:04.423 EST</td><td>39449.604218</td><td>29.67</td><td>1</td><td>29.69</td><td>361</td><td>&quot;C.N&quot;</td><td>&quot;2008-01-02 09:30&quot;</td></tr><tr><td>2008-01-02 09:30:04.576 EST</td><td>39449.60422</td><td>29.67</td><td>1</td><td>29.69</td><td>356</td><td>&quot;C.N&quot;</td><td>&quot;2008-01-02 09:30&quot;</td></tr><tr><td>2008-01-02 09:30:04.825 EST</td><td>39449.604223</td><td>29.67</td><td>1</td><td>29.69</td><td>353</td><td>&quot;C.N&quot;</td><td>&quot;2008-01-02 09:30&quot;</td></tr></tbody></table></div>"
      ],
      "text/plain": [
       "shape: (5, 8)\n",
       "┌────────────────────┬──────────────┬───────┬────────────┬───────┬────────────┬───────┬────────────┐\n",
       "│ timestamp          ┆ xltime       ┆ bid   ┆ bid_volume ┆ ask   ┆ ask_volume ┆ Stock ┆ time       │\n",
       "│ ---                ┆ ---          ┆ ---   ┆ ---        ┆ ---   ┆ ---        ┆ ---   ┆ ---        │\n",
       "│ datetime[μs,       ┆ f64          ┆ f64   ┆ i64        ┆ f64   ┆ i64        ┆ str   ┆ str        │\n",
       "│ America/New_York]  ┆              ┆       ┆            ┆       ┆            ┆       ┆            │\n",
       "╞════════════════════╪══════════════╪═══════╪════════════╪═══════╪════════════╪═══════╪════════════╡\n",
       "│ 2008-01-02         ┆ 39449.604214 ┆ 29.68 ┆ 1          ┆ 29.69 ┆ 373        ┆ C.N   ┆ 2008-01-02 │\n",
       "│ 09:30:04.132 EST   ┆              ┆       ┆            ┆       ┆            ┆       ┆ 09:30      │\n",
       "│ 2008-01-02         ┆ 39449.604217 ┆ 29.68 ┆ 1          ┆ 29.69 ┆ 372        ┆ C.N   ┆ 2008-01-02 │\n",
       "│ 09:30:04.334 EST   ┆              ┆       ┆            ┆       ┆            ┆       ┆ 09:30      │\n",
       "│ 2008-01-02         ┆ 39449.604218 ┆ 29.67 ┆ 1          ┆ 29.69 ┆ 361        ┆ C.N   ┆ 2008-01-02 │\n",
       "│ 09:30:04.423 EST   ┆              ┆       ┆            ┆       ┆            ┆       ┆ 09:30      │\n",
       "│ 2008-01-02         ┆ 39449.60422  ┆ 29.67 ┆ 1          ┆ 29.69 ┆ 356        ┆ C.N   ┆ 2008-01-02 │\n",
       "│ 09:30:04.576 EST   ┆              ┆       ┆            ┆       ┆            ┆       ┆ 09:30      │\n",
       "│ 2008-01-02         ┆ 39449.604223 ┆ 29.67 ┆ 1          ┆ 29.69 ┆ 353        ┆ C.N   ┆ 2008-01-02 │\n",
       "│ 09:30:04.825 EST   ┆              ┆       ┆            ┆       ┆            ┆       ┆ 09:30      │\n",
       "└────────────────────┴──────────────┴───────┴────────────┴───────┴────────────┴───────┴────────────┘"
      ]
     },
     "execution_count": 7,
     "metadata": {},
     "output_type": "execute_result"
    }
   ],
   "source": [
    "raw_bbo_data = raw_bbo_data.with_columns(\n",
    "    raw_bbo_data['timestamp'].dt.strftime('%Y-%m-%d %H:%M').alias('time')\n",
    ")\n",
    "\n",
    "raw_bbo_data.head(5)"
   ]
  },
  {
   "cell_type": "code",
   "execution_count": 8,
   "metadata": {},
   "outputs": [
    {
     "data": {
      "text/html": [
       "<div><style>\n",
       ".dataframe > thead > tr,\n",
       ".dataframe > tbody > tr {\n",
       "  text-align: right;\n",
       "  white-space: pre-wrap;\n",
       "}\n",
       "</style>\n",
       "<small>shape: (3, 10)</small><table border=\"1\" class=\"dataframe\"><thead><tr><th>timestamp</th><th>xltime</th><th>bid</th><th>bid_volume</th><th>ask</th><th>ask_volume</th><th>Stock</th><th>time</th><th>bid_price_volume</th><th>ask_price_volume</th></tr><tr><td>datetime[μs, America/New_York]</td><td>f64</td><td>f64</td><td>i64</td><td>f64</td><td>i64</td><td>str</td><td>str</td><td>f64</td><td>f64</td></tr></thead><tbody><tr><td>2008-01-02 09:30:04.132 EST</td><td>39449.604214</td><td>29.68</td><td>1</td><td>29.69</td><td>373</td><td>&quot;C.N&quot;</td><td>&quot;2008-01-02 09:30&quot;</td><td>29.68</td><td>11074.37</td></tr><tr><td>2008-01-02 09:30:04.334 EST</td><td>39449.604217</td><td>29.68</td><td>1</td><td>29.69</td><td>372</td><td>&quot;C.N&quot;</td><td>&quot;2008-01-02 09:30&quot;</td><td>29.68</td><td>11044.68</td></tr><tr><td>2008-01-02 09:30:04.423 EST</td><td>39449.604218</td><td>29.67</td><td>1</td><td>29.69</td><td>361</td><td>&quot;C.N&quot;</td><td>&quot;2008-01-02 09:30&quot;</td><td>29.67</td><td>10718.09</td></tr></tbody></table></div>"
      ],
      "text/plain": [
       "shape: (3, 10)\n",
       "┌─────────────┬────────────┬───────┬────────────┬───┬───────┬────────────┬────────────┬────────────┐\n",
       "│ timestamp   ┆ xltime     ┆ bid   ┆ bid_volume ┆ … ┆ Stock ┆ time       ┆ bid_price_ ┆ ask_price_ │\n",
       "│ ---         ┆ ---        ┆ ---   ┆ ---        ┆   ┆ ---   ┆ ---        ┆ volume     ┆ volume     │\n",
       "│ datetime[μs ┆ f64        ┆ f64   ┆ i64        ┆   ┆ str   ┆ str        ┆ ---        ┆ ---        │\n",
       "│ , America/N ┆            ┆       ┆            ┆   ┆       ┆            ┆ f64        ┆ f64        │\n",
       "│ ew_York]    ┆            ┆       ┆            ┆   ┆       ┆            ┆            ┆            │\n",
       "╞═════════════╪════════════╪═══════╪════════════╪═══╪═══════╪════════════╪════════════╪════════════╡\n",
       "│ 2008-01-02  ┆ 39449.6042 ┆ 29.68 ┆ 1          ┆ … ┆ C.N   ┆ 2008-01-02 ┆ 29.68      ┆ 11074.37   │\n",
       "│ 09:30:04.13 ┆ 14         ┆       ┆            ┆   ┆       ┆ 09:30      ┆            ┆            │\n",
       "│ 2 EST       ┆            ┆       ┆            ┆   ┆       ┆            ┆            ┆            │\n",
       "│ 2008-01-02  ┆ 39449.6042 ┆ 29.68 ┆ 1          ┆ … ┆ C.N   ┆ 2008-01-02 ┆ 29.68      ┆ 11044.68   │\n",
       "│ 09:30:04.33 ┆ 17         ┆       ┆            ┆   ┆       ┆ 09:30      ┆            ┆            │\n",
       "│ 4 EST       ┆            ┆       ┆            ┆   ┆       ┆            ┆            ┆            │\n",
       "│ 2008-01-02  ┆ 39449.6042 ┆ 29.67 ┆ 1          ┆ … ┆ C.N   ┆ 2008-01-02 ┆ 29.67      ┆ 10718.09   │\n",
       "│ 09:30:04.42 ┆ 18         ┆       ┆            ┆   ┆       ┆ 09:30      ┆            ┆            │\n",
       "│ 3 EST       ┆            ┆       ┆            ┆   ┆       ┆            ┆            ┆            │\n",
       "└─────────────┴────────────┴───────┴────────────┴───┴───────┴────────────┴────────────┴────────────┘"
      ]
     },
     "execution_count": 8,
     "metadata": {},
     "output_type": "execute_result"
    }
   ],
   "source": [
    "raw_bbo_data = raw_bbo_data.with_columns(\n",
    "        (pl.col('bid') * pl.col('bid_volume')).alias(\"bid_price_volume\"),\n",
    "        (pl.col('ask') * pl.col('ask_volume')).alias(\"ask_price_volume\")\n",
    "    )\n",
    "\n",
    "raw_bbo_data.head(3)"
   ]
  },
  {
   "cell_type": "code",
   "execution_count": 9,
   "metadata": {},
   "outputs": [
    {
     "data": {
      "text/html": [
       "<div><style>\n",
       ".dataframe > thead > tr,\n",
       ".dataframe > tbody > tr {\n",
       "  text-align: right;\n",
       "  white-space: pre-wrap;\n",
       "}\n",
       "</style>\n",
       "<small>shape: (5, 4)</small><table border=\"1\" class=\"dataframe\"><thead><tr><th>time</th><th>Stock</th><th>bid_vwa</th><th>ask_vwa</th></tr><tr><td>str</td><td>str</td><td>f64</td><td>f64</td></tr></thead><tbody><tr><td>&quot;2008-04-23 14:26&quot;</td><td>&quot;PG.N&quot;</td><td>67.096526</td><td>67.110915</td></tr><tr><td>&quot;2008-08-07 13:28&quot;</td><td>&quot;C.N&quot;</td><td>18.899127</td><td>18.911981</td></tr><tr><td>&quot;2008-08-25 15:49&quot;</td><td>&quot;RTN.N&quot;</td><td>59.832404</td><td>59.834434</td></tr><tr><td>&quot;2008-11-25 10:38&quot;</td><td>&quot;RTN.N&quot;</td><td>46.339335</td><td>46.4047</td></tr><tr><td>&quot;2008-01-15 12:58&quot;</td><td>&quot;TWX.N&quot;</td><td>15.95</td><td>15.96</td></tr></tbody></table></div>"
      ],
      "text/plain": [
       "shape: (5, 4)\n",
       "┌──────────────────┬───────┬───────────┬───────────┐\n",
       "│ time             ┆ Stock ┆ bid_vwa   ┆ ask_vwa   │\n",
       "│ ---              ┆ ---   ┆ ---       ┆ ---       │\n",
       "│ str              ┆ str   ┆ f64       ┆ f64       │\n",
       "╞══════════════════╪═══════╪═══════════╪═══════════╡\n",
       "│ 2008-04-23 14:26 ┆ PG.N  ┆ 67.096526 ┆ 67.110915 │\n",
       "│ 2008-08-07 13:28 ┆ C.N   ┆ 18.899127 ┆ 18.911981 │\n",
       "│ 2008-08-25 15:49 ┆ RTN.N ┆ 59.832404 ┆ 59.834434 │\n",
       "│ 2008-11-25 10:38 ┆ RTN.N ┆ 46.339335 ┆ 46.4047   │\n",
       "│ 2008-01-15 12:58 ┆ TWX.N ┆ 15.95     ┆ 15.96     │\n",
       "└──────────────────┴───────┴───────────┴───────────┘"
      ]
     },
     "execution_count": 9,
     "metadata": {},
     "output_type": "execute_result"
    }
   ],
   "source": [
    "aggregate_bbo_data = raw_bbo_data.group_by([\"time\", \"Stock\"]).agg([\n",
    "    (pl.sum(\"bid_price_volume\") / pl.sum(\"bid_volume\")).alias(\"bid_vwa\"),\n",
    "    (pl.sum(\"ask_price_volume\") / pl.sum(\"ask_volume\")).alias(\"ask_vwa\")\n",
    "])\n",
    "\n",
    "aggregate_bbo_data.head(5)\n"
   ]
  },
  {
   "cell_type": "code",
   "execution_count": 17,
   "metadata": {},
   "outputs": [
    {
     "data": {
      "text/html": [
       "<div><style>\n",
       ".dataframe > thead > tr,\n",
       ".dataframe > tbody > tr {\n",
       "  text-align: right;\n",
       "  white-space: pre-wrap;\n",
       "}\n",
       "</style>\n",
       "<small>shape: (5, 5)</small><table border=\"1\" class=\"dataframe\"><thead><tr><th>time</th><th>Stock</th><th>bid_vwa</th><th>ask_vwa</th><th>vwap_mid_price</th></tr><tr><td>str</td><td>str</td><td>f64</td><td>f64</td><td>f64</td></tr></thead><tbody><tr><td>&quot;2008-04-23 14:26&quot;</td><td>&quot;PG.N&quot;</td><td>67.096526</td><td>67.110915</td><td>67.10372</td></tr><tr><td>&quot;2008-08-07 13:28&quot;</td><td>&quot;C.N&quot;</td><td>18.899127</td><td>18.911981</td><td>18.905554</td></tr><tr><td>&quot;2008-08-25 15:49&quot;</td><td>&quot;RTN.N&quot;</td><td>59.832404</td><td>59.834434</td><td>59.833419</td></tr><tr><td>&quot;2008-11-25 10:38&quot;</td><td>&quot;RTN.N&quot;</td><td>46.339335</td><td>46.4047</td><td>46.372018</td></tr><tr><td>&quot;2008-01-15 12:58&quot;</td><td>&quot;TWX.N&quot;</td><td>15.95</td><td>15.96</td><td>15.955</td></tr></tbody></table></div>"
      ],
      "text/plain": [
       "shape: (5, 5)\n",
       "┌──────────────────┬───────┬───────────┬───────────┬────────────────┐\n",
       "│ time             ┆ Stock ┆ bid_vwa   ┆ ask_vwa   ┆ vwap_mid_price │\n",
       "│ ---              ┆ ---   ┆ ---       ┆ ---       ┆ ---            │\n",
       "│ str              ┆ str   ┆ f64       ┆ f64       ┆ f64            │\n",
       "╞══════════════════╪═══════╪═══════════╪═══════════╪════════════════╡\n",
       "│ 2008-04-23 14:26 ┆ PG.N  ┆ 67.096526 ┆ 67.110915 ┆ 67.10372       │\n",
       "│ 2008-08-07 13:28 ┆ C.N   ┆ 18.899127 ┆ 18.911981 ┆ 18.905554      │\n",
       "│ 2008-08-25 15:49 ┆ RTN.N ┆ 59.832404 ┆ 59.834434 ┆ 59.833419      │\n",
       "│ 2008-11-25 10:38 ┆ RTN.N ┆ 46.339335 ┆ 46.4047   ┆ 46.372018      │\n",
       "│ 2008-01-15 12:58 ┆ TWX.N ┆ 15.95     ┆ 15.96     ┆ 15.955         │\n",
       "└──────────────────┴───────┴───────────┴───────────┴────────────────┘"
      ]
     },
     "execution_count": 17,
     "metadata": {},
     "output_type": "execute_result"
    }
   ],
   "source": [
    "aggregate_bbo_data = aggregate_bbo_data.with_columns(\n",
    "        ((pl.col('bid_vwa') + pl.col('ask_vwa')) / 2).alias(\"vwap_mid_price\")\n",
    "    )\n",
    "\n",
    "aggregate_bbo_data.head(5)"
   ]
  },
  {
   "cell_type": "code",
   "execution_count": 18,
   "metadata": {},
   "outputs": [],
   "source": [
    "aggregate_bbo_data.write_parquet(\"data/vwap_bbo_data_with_mid_prices.parquet\")"
   ]
  },
  {
   "cell_type": "code",
   "execution_count": 11,
   "metadata": {},
   "outputs": [
    {
     "name": "stderr",
     "output_type": "stream",
     "text": [
      "/var/folders/cg/lm106ggx1z59db7x0_wgfghm0000gn/T/ipykernel_460/2993530113.py:7: DeprecationWarning: `pl.count()` is deprecated. Please use `pl.len()` instead.\n",
      "  .agg(pl.count())  # Count rows in each group\n"
     ]
    }
   ],
   "source": [
    "result = (\n",
    "    aggregate_bbo_data\n",
    "    .with_columns(\n",
    "        (pl.col(\"time\").str.slice(0, 10)).alias(\"month\")  # Extract year and month as 'YYYY-MM'\n",
    "    )\n",
    "    .group_by([\"Stock\", \"month\"])  # Group by Stock and extracted month\n",
    "    .agg(pl.count())  # Count rows in each group\n",
    "    .sort([\"Stock\", \"month\"])  # Sort by Stock and month\n",
    ")\n"
   ]
  },
  {
   "cell_type": "markdown",
   "metadata": {},
   "source": [
    "### Compare sizes"
   ]
  },
  {
   "cell_type": "code",
   "execution_count": 12,
   "metadata": {},
   "outputs": [
    {
     "data": {
      "text/html": [
       "<div><style>\n",
       ".dataframe > thead > tr,\n",
       ".dataframe > tbody > tr {\n",
       "  text-align: right;\n",
       "  white-space: pre-wrap;\n",
       "}\n",
       "</style>\n",
       "<small>shape: (2_783, 3)</small><table border=\"1\" class=\"dataframe\"><thead><tr><th>Stock</th><th>month</th><th>count</th></tr><tr><td>str</td><td>str</td><td>u32</td></tr></thead><tbody><tr><td>&quot;C.N&quot;</td><td>&quot;2008-01-02&quot;</td><td>391</td></tr><tr><td>&quot;C.N&quot;</td><td>&quot;2008-01-03&quot;</td><td>391</td></tr><tr><td>&quot;C.N&quot;</td><td>&quot;2008-01-04&quot;</td><td>391</td></tr><tr><td>&quot;C.N&quot;</td><td>&quot;2008-01-07&quot;</td><td>391</td></tr><tr><td>&quot;C.N&quot;</td><td>&quot;2008-01-08&quot;</td><td>390</td></tr><tr><td>&hellip;</td><td>&hellip;</td><td>&hellip;</td></tr><tr><td>&quot;WFC.N&quot;</td><td>&quot;2008-12-24&quot;</td><td>214</td></tr><tr><td>&quot;WFC.N&quot;</td><td>&quot;2008-12-26&quot;</td><td>390</td></tr><tr><td>&quot;WFC.N&quot;</td><td>&quot;2008-12-29&quot;</td><td>389</td></tr><tr><td>&quot;WFC.N&quot;</td><td>&quot;2008-12-30&quot;</td><td>391</td></tr><tr><td>&quot;WFC.N&quot;</td><td>&quot;2008-12-31&quot;</td><td>391</td></tr></tbody></table></div>"
      ],
      "text/plain": [
       "shape: (2_783, 3)\n",
       "┌───────┬────────────┬───────┐\n",
       "│ Stock ┆ month      ┆ count │\n",
       "│ ---   ┆ ---        ┆ ---   │\n",
       "│ str   ┆ str        ┆ u32   │\n",
       "╞═══════╪════════════╪═══════╡\n",
       "│ C.N   ┆ 2008-01-02 ┆ 391   │\n",
       "│ C.N   ┆ 2008-01-03 ┆ 391   │\n",
       "│ C.N   ┆ 2008-01-04 ┆ 391   │\n",
       "│ C.N   ┆ 2008-01-07 ┆ 391   │\n",
       "│ C.N   ┆ 2008-01-08 ┆ 390   │\n",
       "│ …     ┆ …          ┆ …     │\n",
       "│ WFC.N ┆ 2008-12-24 ┆ 214   │\n",
       "│ WFC.N ┆ 2008-12-26 ┆ 390   │\n",
       "│ WFC.N ┆ 2008-12-29 ┆ 389   │\n",
       "│ WFC.N ┆ 2008-12-30 ┆ 391   │\n",
       "│ WFC.N ┆ 2008-12-31 ┆ 391   │\n",
       "└───────┴────────────┴───────┘"
      ]
     },
     "execution_count": 12,
     "metadata": {},
     "output_type": "execute_result"
    }
   ],
   "source": [
    "result"
   ]
  },
  {
   "cell_type": "code",
   "execution_count": 20,
   "metadata": {},
   "outputs": [],
   "source": [
    "result.write_parquet(\"data/results_vwap.parquet\")"
   ]
  },
  {
   "cell_type": "code",
   "execution_count": 19,
   "metadata": {},
   "outputs": [
    {
     "data": {
      "text/html": [
       "<div><style>\n",
       ".dataframe > thead > tr,\n",
       ".dataframe > tbody > tr {\n",
       "  text-align: right;\n",
       "  white-space: pre-wrap;\n",
       "}\n",
       "</style>\n",
       "<small>shape: (1_079_313, 5)</small><table border=\"1\" class=\"dataframe\"><thead><tr><th>time</th><th>Stock</th><th>bid_vwa</th><th>ask_vwa</th><th>vwap_mid_price</th></tr><tr><td>str</td><td>str</td><td>f64</td><td>f64</td><td>f64</td></tr></thead><tbody><tr><td>&quot;2008-04-23 14:26&quot;</td><td>&quot;PG.N&quot;</td><td>67.096526</td><td>67.110915</td><td>67.10372</td></tr><tr><td>&quot;2008-08-07 13:28&quot;</td><td>&quot;C.N&quot;</td><td>18.899127</td><td>18.911981</td><td>18.905554</td></tr><tr><td>&quot;2008-08-25 15:49&quot;</td><td>&quot;RTN.N&quot;</td><td>59.832404</td><td>59.834434</td><td>59.833419</td></tr><tr><td>&quot;2008-11-25 10:38&quot;</td><td>&quot;RTN.N&quot;</td><td>46.339335</td><td>46.4047</td><td>46.372018</td></tr><tr><td>&quot;2008-01-15 12:58&quot;</td><td>&quot;TWX.N&quot;</td><td>15.95</td><td>15.96</td><td>15.955</td></tr><tr><td>&hellip;</td><td>&hellip;</td><td>&hellip;</td><td>&hellip;</td><td>&hellip;</td></tr><tr><td>&quot;2008-08-01 11:18&quot;</td><td>&quot;TWX.N&quot;</td><td>14.172429</td><td>14.18974</td><td>14.181085</td></tr><tr><td>&quot;2008-04-10 12:03&quot;</td><td>&quot;TWX.N&quot;</td><td>14.549424</td><td>14.561791</td><td>14.555608</td></tr><tr><td>&quot;2008-01-17 15:52&quot;</td><td>&quot;C.N&quot;</td><td>24.919062</td><td>24.919497</td><td>24.919279</td></tr><tr><td>&quot;2008-02-01 10:47&quot;</td><td>&quot;MDT.N&quot;</td><td>47.143655</td><td>47.154791</td><td>47.149223</td></tr><tr><td>&quot;2008-08-29 10:04&quot;</td><td>&quot;EMC.N&quot;</td><td>15.401392</td><td>15.419423</td><td>15.410408</td></tr></tbody></table></div>"
      ],
      "text/plain": [
       "shape: (1_079_313, 5)\n",
       "┌──────────────────┬───────┬───────────┬───────────┬────────────────┐\n",
       "│ time             ┆ Stock ┆ bid_vwa   ┆ ask_vwa   ┆ vwap_mid_price │\n",
       "│ ---              ┆ ---   ┆ ---       ┆ ---       ┆ ---            │\n",
       "│ str              ┆ str   ┆ f64       ┆ f64       ┆ f64            │\n",
       "╞══════════════════╪═══════╪═══════════╪═══════════╪════════════════╡\n",
       "│ 2008-04-23 14:26 ┆ PG.N  ┆ 67.096526 ┆ 67.110915 ┆ 67.10372       │\n",
       "│ 2008-08-07 13:28 ┆ C.N   ┆ 18.899127 ┆ 18.911981 ┆ 18.905554      │\n",
       "│ 2008-08-25 15:49 ┆ RTN.N ┆ 59.832404 ┆ 59.834434 ┆ 59.833419      │\n",
       "│ 2008-11-25 10:38 ┆ RTN.N ┆ 46.339335 ┆ 46.4047   ┆ 46.372018      │\n",
       "│ 2008-01-15 12:58 ┆ TWX.N ┆ 15.95     ┆ 15.96     ┆ 15.955         │\n",
       "│ …                ┆ …     ┆ …         ┆ …         ┆ …              │\n",
       "│ 2008-08-01 11:18 ┆ TWX.N ┆ 14.172429 ┆ 14.18974  ┆ 14.181085      │\n",
       "│ 2008-04-10 12:03 ┆ TWX.N ┆ 14.549424 ┆ 14.561791 ┆ 14.555608      │\n",
       "│ 2008-01-17 15:52 ┆ C.N   ┆ 24.919062 ┆ 24.919497 ┆ 24.919279      │\n",
       "│ 2008-02-01 10:47 ┆ MDT.N ┆ 47.143655 ┆ 47.154791 ┆ 47.149223      │\n",
       "│ 2008-08-29 10:04 ┆ EMC.N ┆ 15.401392 ┆ 15.419423 ┆ 15.410408      │\n",
       "└──────────────────┴───────┴───────────┴───────────┴────────────────┘"
      ]
     },
     "execution_count": 19,
     "metadata": {},
     "output_type": "execute_result"
    }
   ],
   "source": [
    "aggregate_bbo_data"
   ]
  }
 ],
 "metadata": {
  "kernelspec": {
   "display_name": ".venv",
   "language": "python",
   "name": "python3"
  },
  "language_info": {
   "codemirror_mode": {
    "name": "ipython",
    "version": 3
   },
   "file_extension": ".py",
   "mimetype": "text/x-python",
   "name": "python",
   "nbconvert_exporter": "python",
   "pygments_lexer": "ipython3",
   "version": "3.12.6"
  }
 },
 "nbformat": 4,
 "nbformat_minor": 2
}
