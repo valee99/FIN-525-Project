{
 "cells": [
  {
   "cell_type": "code",
   "execution_count": 1,
   "metadata": {},
   "outputs": [],
   "source": [
    "import polars as pl"
   ]
  },
  {
   "cell_type": "code",
   "execution_count": 2,
   "metadata": {},
   "outputs": [
    {
     "data": {
      "text/html": [
       "<div><style>\n",
       ".dataframe > thead > tr,\n",
       ".dataframe > tbody > tr {\n",
       "  text-align: right;\n",
       "  white-space: pre-wrap;\n",
       "}\n",
       "</style>\n",
       "<small>shape: (5, 7)</small><table border=\"1\" class=\"dataframe\"><thead><tr><th>index</th><th>xltime</th><th>bid-price</th><th>bid-volume</th><th>ask-price</th><th>ask-volume</th><th>Stock</th></tr><tr><td>datetime[μs, America/New_York]</td><td>f64</td><td>f64</td><td>i64</td><td>f64</td><td>i64</td><td>str</td></tr></thead><tbody><tr><td>2008-07-01 09:30:49.866 EDT</td><td>39630.563077</td><td>52.67</td><td>11</td><td>52.79</td><td>2</td><td>&quot;ABT.N&quot;</td></tr><tr><td>2008-07-01 09:30:49.951 EDT</td><td>39630.563078</td><td>52.67</td><td>11</td><td>52.76</td><td>2</td><td>&quot;ABT.N&quot;</td></tr><tr><td>2008-07-01 09:30:50.069 EDT</td><td>39630.56308</td><td>52.67</td><td>4</td><td>52.76</td><td>2</td><td>&quot;ABT.N&quot;</td></tr><tr><td>2008-07-01 09:30:50.079 EDT</td><td>39630.56308</td><td>52.63</td><td>5</td><td>52.76</td><td>2</td><td>&quot;ABT.N&quot;</td></tr><tr><td>2008-07-01 09:30:50.349 EDT</td><td>39630.563083</td><td>37.45</td><td>9</td><td>37.47</td><td>8</td><td>&quot;MRK.N&quot;</td></tr></tbody></table></div>"
      ],
      "text/plain": [
       "shape: (5, 7)\n",
       "┌─────────────────────────┬──────────────┬───────────┬────────────┬───────────┬────────────┬───────┐\n",
       "│ index                   ┆ xltime       ┆ bid-price ┆ bid-volume ┆ ask-price ┆ ask-volume ┆ Stock │\n",
       "│ ---                     ┆ ---          ┆ ---       ┆ ---        ┆ ---       ┆ ---        ┆ ---   │\n",
       "│ datetime[μs,            ┆ f64          ┆ f64       ┆ i64        ┆ f64       ┆ i64        ┆ str   │\n",
       "│ America/New_York]       ┆              ┆           ┆            ┆           ┆            ┆       │\n",
       "╞═════════════════════════╪══════════════╪═══════════╪════════════╪═══════════╪════════════╪═══════╡\n",
       "│ 2008-07-01 09:30:49.866 ┆ 39630.563077 ┆ 52.67     ┆ 11         ┆ 52.79     ┆ 2          ┆ ABT.N │\n",
       "│ EDT                     ┆              ┆           ┆            ┆           ┆            ┆       │\n",
       "│ 2008-07-01 09:30:49.951 ┆ 39630.563078 ┆ 52.67     ┆ 11         ┆ 52.76     ┆ 2          ┆ ABT.N │\n",
       "│ EDT                     ┆              ┆           ┆            ┆           ┆            ┆       │\n",
       "│ 2008-07-01 09:30:50.069 ┆ 39630.56308  ┆ 52.67     ┆ 4          ┆ 52.76     ┆ 2          ┆ ABT.N │\n",
       "│ EDT                     ┆              ┆           ┆            ┆           ┆            ┆       │\n",
       "│ 2008-07-01 09:30:50.079 ┆ 39630.56308  ┆ 52.63     ┆ 5          ┆ 52.76     ┆ 2          ┆ ABT.N │\n",
       "│ EDT                     ┆              ┆           ┆            ┆           ┆            ┆       │\n",
       "│ 2008-07-01 09:30:50.349 ┆ 39630.563083 ┆ 37.45     ┆ 9          ┆ 37.47     ┆ 8          ┆ MRK.N │\n",
       "│ EDT                     ┆              ┆           ┆            ┆           ┆            ┆       │\n",
       "└─────────────────────────┴──────────────┴───────────┴────────────┴───────────┴────────────┴───────┘"
      ]
     },
     "execution_count": 2,
     "metadata": {},
     "output_type": "execute_result"
    }
   ],
   "source": [
    "raw_bbo_data = pl.read_parquet(\"data/raw_bbo_data.parquet\")\n",
    "raw_bbo_data.head()"
   ]
  },
  {
   "cell_type": "code",
   "execution_count": 3,
   "metadata": {},
   "outputs": [
    {
     "name": "stdout",
     "output_type": "stream",
     "text": [
      "[Datetime(time_unit='us', time_zone='America/New_York'), Float64, Float64, Int64, Float64, Int64, String]\n",
      "shape: (7, 3)\n",
      "┌────────────┬─────────────────────────────────┬─────────────────────────────────┐\n",
      "│ column     ┆ data_type                       ┆ Total of Observation for each … │\n",
      "│ ---        ┆ ---                             ┆ ---                             │\n",
      "│ str        ┆ str                             ┆ u32                             │\n",
      "╞════════════╪═════════════════════════════════╪═════════════════════════════════╡\n",
      "│ index      ┆ Datetime(time_unit='us', time_… ┆ 30966392                        │\n",
      "│ xltime     ┆ Float64                         ┆ 30966392                        │\n",
      "│ bid-price  ┆ Float64                         ┆ 30966392                        │\n",
      "│ bid-volume ┆ Int64                           ┆ 30966392                        │\n",
      "│ ask-price  ┆ Float64                         ┆ 30966392                        │\n",
      "│ ask-volume ┆ Int64                           ┆ 30966392                        │\n",
      "│ Stock      ┆ String                          ┆ 30966392                        │\n",
      "└────────────┴─────────────────────────────────┴─────────────────────────────────┘\n"
     ]
    }
   ],
   "source": [
    "# To get data types of columns\n",
    "dtypes_info = raw_bbo_data.dtypes\n",
    "print(dtypes_info)\n",
    "\n",
    "# If you want a more visual summary similar to `.info()` in pandas\n",
    "info_raw_bbo_data = pl.DataFrame({\n",
    "    \"column\": raw_bbo_data.columns,\n",
    "    \"data_type\": [str(dtype) for dtype in dtypes_info],\n",
    "    \"Total of Observation for each column\": [raw_bbo_data.select(pl.col(column).count()).to_numpy()[0][0] for column in raw_bbo_data.columns]\n",
    "})\n",
    "\n",
    "print(info_raw_bbo_data)"
   ]
  },
  {
   "cell_type": "code",
   "execution_count": 4,
   "metadata": {},
   "outputs": [
    {
     "name": "stdout",
     "output_type": "stream",
     "text": [
      "Column 'index' has 0 missing values\n",
      "Column 'xltime' has 0 missing values\n",
      "Column 'bid-price' has 0 missing values\n",
      "Column 'bid-volume' has 0 missing values\n",
      "Column 'ask-price' has 0 missing values\n",
      "Column 'ask-volume' has 0 missing values\n",
      "Column 'Stock' has 0 missing values\n"
     ]
    }
   ],
   "source": [
    "# Checking for missing values in each column\n",
    "for column in raw_bbo_data.columns:\n",
    "    null_count = raw_bbo_data[column].is_null().sum()\n",
    "    print(f\"Column '{column}' has {null_count} missing values\")"
   ]
  },
  {
   "cell_type": "code",
   "execution_count": 5,
   "metadata": {},
   "outputs": [],
   "source": [
    "raw_bbo_data = raw_bbo_data.rename({\n",
    "    \"index\": \"timestamp\",\n",
    "    \"bid-price\": \"bid\",\n",
    "    \"ask-price\": \"ask\",\n",
    "    \"bid-volume\": \"bid_volume\",\n",
    "    \"ask-volume\": \"ask_volume\"\n",
    "})"
   ]
  },
  {
   "cell_type": "code",
   "execution_count": 6,
   "metadata": {},
   "outputs": [],
   "source": [
    "dataraw_bbo_data_bbo = raw_bbo_data.with_columns(\n",
    "    pl.col('timestamp').cast(pl.Datetime).alias('timestamp')  # Ensure the 'Time' column is cast to Datetime\n",
    ")\n",
    "raw_bbo_data = raw_bbo_data.with_columns([\n",
    "    # pl.col(\"timestamp\").dt.year().alias(\"Year\"),\n",
    "    # pl.col(\"timestamp\").dt.month().alias(\"Month\"),\n",
    "    pl.col(\"timestamp\").dt.day().alias(\"Day\"),\n",
    "    pl.col(\"timestamp\").dt.hour().alias(\"Hour\"),\n",
    "    pl.col(\"timestamp\").dt.minute().alias(\"Minute\"),\n",
    "    # pl.col(\"timestamp\").dt.second().alias(\"Second\"),\n",
    "])\n",
    "\n"
   ]
  },
  {
   "cell_type": "code",
   "execution_count": 6,
   "metadata": {},
   "outputs": [],
   "source": [
    "dataraw_bbo_data_bbo = raw_bbo_data.with_columns(\n",
    "    pl.col('timestamp').cast(pl.Datetime).alias('timestamp')  # Ensure the 'Time' column is cast to Datetime\n",
    ")"
   ]
  },
  {
   "cell_type": "code",
   "execution_count": 7,
   "metadata": {},
   "outputs": [
    {
     "data": {
      "text/html": [
       "<div><style>\n",
       ".dataframe > thead > tr,\n",
       ".dataframe > tbody > tr {\n",
       "  text-align: right;\n",
       "  white-space: pre-wrap;\n",
       "}\n",
       "</style>\n",
       "<small>shape: (5, 8)</small><table border=\"1\" class=\"dataframe\"><thead><tr><th>timestamp</th><th>xltime</th><th>bid</th><th>bid_volume</th><th>ask</th><th>ask_volume</th><th>Stock</th><th>time</th></tr><tr><td>datetime[μs, America/New_York]</td><td>f64</td><td>f64</td><td>i64</td><td>f64</td><td>i64</td><td>str</td><td>str</td></tr></thead><tbody><tr><td>2008-07-01 09:30:49.866 EDT</td><td>39630.563077</td><td>52.67</td><td>11</td><td>52.79</td><td>2</td><td>&quot;ABT.N&quot;</td><td>&quot;2008-07-01 09:30&quot;</td></tr><tr><td>2008-07-01 09:30:49.951 EDT</td><td>39630.563078</td><td>52.67</td><td>11</td><td>52.76</td><td>2</td><td>&quot;ABT.N&quot;</td><td>&quot;2008-07-01 09:30&quot;</td></tr><tr><td>2008-07-01 09:30:50.069 EDT</td><td>39630.56308</td><td>52.67</td><td>4</td><td>52.76</td><td>2</td><td>&quot;ABT.N&quot;</td><td>&quot;2008-07-01 09:30&quot;</td></tr><tr><td>2008-07-01 09:30:50.079 EDT</td><td>39630.56308</td><td>52.63</td><td>5</td><td>52.76</td><td>2</td><td>&quot;ABT.N&quot;</td><td>&quot;2008-07-01 09:30&quot;</td></tr><tr><td>2008-07-01 09:30:50.349 EDT</td><td>39630.563083</td><td>37.45</td><td>9</td><td>37.47</td><td>8</td><td>&quot;MRK.N&quot;</td><td>&quot;2008-07-01 09:30&quot;</td></tr></tbody></table></div>"
      ],
      "text/plain": [
       "shape: (5, 8)\n",
       "┌────────────────────┬──────────────┬───────┬────────────┬───────┬────────────┬───────┬────────────┐\n",
       "│ timestamp          ┆ xltime       ┆ bid   ┆ bid_volume ┆ ask   ┆ ask_volume ┆ Stock ┆ time       │\n",
       "│ ---                ┆ ---          ┆ ---   ┆ ---        ┆ ---   ┆ ---        ┆ ---   ┆ ---        │\n",
       "│ datetime[μs,       ┆ f64          ┆ f64   ┆ i64        ┆ f64   ┆ i64        ┆ str   ┆ str        │\n",
       "│ America/New_York]  ┆              ┆       ┆            ┆       ┆            ┆       ┆            │\n",
       "╞════════════════════╪══════════════╪═══════╪════════════╪═══════╪════════════╪═══════╪════════════╡\n",
       "│ 2008-07-01         ┆ 39630.563077 ┆ 52.67 ┆ 11         ┆ 52.79 ┆ 2          ┆ ABT.N ┆ 2008-07-01 │\n",
       "│ 09:30:49.866 EDT   ┆              ┆       ┆            ┆       ┆            ┆       ┆ 09:30      │\n",
       "│ 2008-07-01         ┆ 39630.563078 ┆ 52.67 ┆ 11         ┆ 52.76 ┆ 2          ┆ ABT.N ┆ 2008-07-01 │\n",
       "│ 09:30:49.951 EDT   ┆              ┆       ┆            ┆       ┆            ┆       ┆ 09:30      │\n",
       "│ 2008-07-01         ┆ 39630.56308  ┆ 52.67 ┆ 4          ┆ 52.76 ┆ 2          ┆ ABT.N ┆ 2008-07-01 │\n",
       "│ 09:30:50.069 EDT   ┆              ┆       ┆            ┆       ┆            ┆       ┆ 09:30      │\n",
       "│ 2008-07-01         ┆ 39630.56308  ┆ 52.63 ┆ 5          ┆ 52.76 ┆ 2          ┆ ABT.N ┆ 2008-07-01 │\n",
       "│ 09:30:50.079 EDT   ┆              ┆       ┆            ┆       ┆            ┆       ┆ 09:30      │\n",
       "│ 2008-07-01         ┆ 39630.563083 ┆ 37.45 ┆ 9          ┆ 37.47 ┆ 8          ┆ MRK.N ┆ 2008-07-01 │\n",
       "│ 09:30:50.349 EDT   ┆              ┆       ┆            ┆       ┆            ┆       ┆ 09:30      │\n",
       "└────────────────────┴──────────────┴───────┴────────────┴───────┴────────────┴───────┴────────────┘"
      ]
     },
     "execution_count": 7,
     "metadata": {},
     "output_type": "execute_result"
    }
   ],
   "source": [
    "raw_bbo_data = raw_bbo_data.with_columns(\n",
    "    raw_bbo_data['timestamp'].dt.strftime('%Y-%m-%d %H:%M').alias('time')\n",
    ")\n",
    "\n",
    "raw_bbo_data.head(5)"
   ]
  },
  {
   "cell_type": "code",
   "execution_count": 8,
   "metadata": {},
   "outputs": [
    {
     "data": {
      "text/html": [
       "<div><style>\n",
       ".dataframe > thead > tr,\n",
       ".dataframe > tbody > tr {\n",
       "  text-align: right;\n",
       "  white-space: pre-wrap;\n",
       "}\n",
       "</style>\n",
       "<small>shape: (3, 10)</small><table border=\"1\" class=\"dataframe\"><thead><tr><th>timestamp</th><th>xltime</th><th>bid</th><th>bid_volume</th><th>ask</th><th>ask_volume</th><th>Stock</th><th>time</th><th>bid_price_volume</th><th>ask_price_volume</th></tr><tr><td>datetime[μs, America/New_York]</td><td>f64</td><td>f64</td><td>i64</td><td>f64</td><td>i64</td><td>str</td><td>str</td><td>f64</td><td>f64</td></tr></thead><tbody><tr><td>2008-07-01 09:30:49.866 EDT</td><td>39630.563077</td><td>52.67</td><td>11</td><td>52.79</td><td>2</td><td>&quot;ABT.N&quot;</td><td>&quot;2008-07-01 09:30&quot;</td><td>579.37</td><td>105.58</td></tr><tr><td>2008-07-01 09:30:49.951 EDT</td><td>39630.563078</td><td>52.67</td><td>11</td><td>52.76</td><td>2</td><td>&quot;ABT.N&quot;</td><td>&quot;2008-07-01 09:30&quot;</td><td>579.37</td><td>105.52</td></tr><tr><td>2008-07-01 09:30:50.069 EDT</td><td>39630.56308</td><td>52.67</td><td>4</td><td>52.76</td><td>2</td><td>&quot;ABT.N&quot;</td><td>&quot;2008-07-01 09:30&quot;</td><td>210.68</td><td>105.52</td></tr></tbody></table></div>"
      ],
      "text/plain": [
       "shape: (3, 10)\n",
       "┌─────────────┬────────────┬───────┬────────────┬───┬───────┬────────────┬────────────┬────────────┐\n",
       "│ timestamp   ┆ xltime     ┆ bid   ┆ bid_volume ┆ … ┆ Stock ┆ time       ┆ bid_price_ ┆ ask_price_ │\n",
       "│ ---         ┆ ---        ┆ ---   ┆ ---        ┆   ┆ ---   ┆ ---        ┆ volume     ┆ volume     │\n",
       "│ datetime[μs ┆ f64        ┆ f64   ┆ i64        ┆   ┆ str   ┆ str        ┆ ---        ┆ ---        │\n",
       "│ , America/N ┆            ┆       ┆            ┆   ┆       ┆            ┆ f64        ┆ f64        │\n",
       "│ ew_York]    ┆            ┆       ┆            ┆   ┆       ┆            ┆            ┆            │\n",
       "╞═════════════╪════════════╪═══════╪════════════╪═══╪═══════╪════════════╪════════════╪════════════╡\n",
       "│ 2008-07-01  ┆ 39630.5630 ┆ 52.67 ┆ 11         ┆ … ┆ ABT.N ┆ 2008-07-01 ┆ 579.37     ┆ 105.58     │\n",
       "│ 09:30:49.86 ┆ 77         ┆       ┆            ┆   ┆       ┆ 09:30      ┆            ┆            │\n",
       "│ 6 EDT       ┆            ┆       ┆            ┆   ┆       ┆            ┆            ┆            │\n",
       "│ 2008-07-01  ┆ 39630.5630 ┆ 52.67 ┆ 11         ┆ … ┆ ABT.N ┆ 2008-07-01 ┆ 579.37     ┆ 105.52     │\n",
       "│ 09:30:49.95 ┆ 78         ┆       ┆            ┆   ┆       ┆ 09:30      ┆            ┆            │\n",
       "│ 1 EDT       ┆            ┆       ┆            ┆   ┆       ┆            ┆            ┆            │\n",
       "│ 2008-07-01  ┆ 39630.5630 ┆ 52.67 ┆ 4          ┆ … ┆ ABT.N ┆ 2008-07-01 ┆ 210.68     ┆ 105.52     │\n",
       "│ 09:30:50.06 ┆ 8          ┆       ┆            ┆   ┆       ┆ 09:30      ┆            ┆            │\n",
       "│ 9 EDT       ┆            ┆       ┆            ┆   ┆       ┆            ┆            ┆            │\n",
       "└─────────────┴────────────┴───────┴────────────┴───┴───────┴────────────┴────────────┴────────────┘"
      ]
     },
     "execution_count": 8,
     "metadata": {},
     "output_type": "execute_result"
    }
   ],
   "source": [
    "raw_bbo_data = raw_bbo_data.with_columns(\n",
    "        (pl.col('bid') * pl.col('bid_volume')).alias(\"bid_price_volume\"),\n",
    "        (pl.col('ask') * pl.col('ask_volume')).alias(\"ask_price_volume\")\n",
    "    )\n",
    "\n",
    "raw_bbo_data.head(3)"
   ]
  },
  {
   "cell_type": "code",
   "execution_count": 9,
   "metadata": {},
   "outputs": [
    {
     "data": {
      "text/html": [
       "<div><style>\n",
       ".dataframe > thead > tr,\n",
       ".dataframe > tbody > tr {\n",
       "  text-align: right;\n",
       "  white-space: pre-wrap;\n",
       "}\n",
       "</style>\n",
       "<small>shape: (5, 4)</small><table border=\"1\" class=\"dataframe\"><thead><tr><th>time</th><th>Stock</th><th>bid_vwa</th><th>ask_vwa</th></tr><tr><td>str</td><td>str</td><td>f64</td><td>f64</td></tr></thead><tbody><tr><td>&quot;2008-08-06 15:39&quot;</td><td>&quot;EMR.N&quot;</td><td>48.9904</td><td>49.007246</td></tr><tr><td>&quot;2008-07-01 13:11&quot;</td><td>&quot;HON.N&quot;</td><td>49.968058</td><td>49.985636</td></tr><tr><td>&quot;2008-07-30 10:05&quot;</td><td>&quot;VZ.N&quot;</td><td>34.119728</td><td>34.14013</td></tr><tr><td>&quot;2008-08-13 12:27&quot;</td><td>&quot;ABT.N&quot;</td><td>58.477794</td><td>58.4896</td></tr><tr><td>&quot;2008-07-11 15:14&quot;</td><td>&quot;MRK.N&quot;</td><td>36.679088</td><td>36.701447</td></tr></tbody></table></div>"
      ],
      "text/plain": [
       "shape: (5, 4)\n",
       "┌──────────────────┬───────┬───────────┬───────────┐\n",
       "│ time             ┆ Stock ┆ bid_vwa   ┆ ask_vwa   │\n",
       "│ ---              ┆ ---   ┆ ---       ┆ ---       │\n",
       "│ str              ┆ str   ┆ f64       ┆ f64       │\n",
       "╞══════════════════╪═══════╪═══════════╪═══════════╡\n",
       "│ 2008-08-06 15:39 ┆ EMR.N ┆ 48.9904   ┆ 49.007246 │\n",
       "│ 2008-07-01 13:11 ┆ HON.N ┆ 49.968058 ┆ 49.985636 │\n",
       "│ 2008-07-30 10:05 ┆ VZ.N  ┆ 34.119728 ┆ 34.14013  │\n",
       "│ 2008-08-13 12:27 ┆ ABT.N ┆ 58.477794 ┆ 58.4896   │\n",
       "│ 2008-07-11 15:14 ┆ MRK.N ┆ 36.679088 ┆ 36.701447 │\n",
       "└──────────────────┴───────┴───────────┴───────────┘"
      ]
     },
     "execution_count": 9,
     "metadata": {},
     "output_type": "execute_result"
    }
   ],
   "source": [
    "aggregate_bbo_data = raw_bbo_data.group_by([\"time\", \"Stock\"]).agg([\n",
    "    (pl.sum(\"bid_price_volume\") / pl.sum(\"bid_volume\")).alias(\"bid_vwa\"),\n",
    "    (pl.sum(\"ask_price_volume\") / pl.sum(\"ask_volume\")).alias(\"ask_vwa\")\n",
    "])\n",
    "\n",
    "aggregate_bbo_data.head(5)\n"
   ]
  },
  {
   "cell_type": "code",
   "execution_count": 10,
   "metadata": {},
   "outputs": [
    {
     "name": "stderr",
     "output_type": "stream",
     "text": [
      "/var/folders/cg/lm106ggx1z59db7x0_wgfghm0000gn/T/ipykernel_99629/2993530113.py:7: DeprecationWarning: `pl.count()` is deprecated. Please use `pl.len()` instead.\n",
      "  .agg(pl.count())  # Count rows in each group\n"
     ]
    }
   ],
   "source": [
    "result = (\n",
    "    aggregate_bbo_data\n",
    "    .with_columns(\n",
    "        (pl.col(\"time\").str.slice(0, 10)).alias(\"month\")  # Extract year and month as 'YYYY-MM'\n",
    "    )\n",
    "    .group_by([\"Stock\", \"month\"])  # Group by Stock and extracted month\n",
    "    .agg(pl.count())  # Count rows in each group\n",
    "    .sort([\"Stock\", \"month\"])  # Sort by Stock and month\n",
    ")\n"
   ]
  },
  {
   "cell_type": "code",
   "execution_count": 11,
   "metadata": {},
   "outputs": [
    {
     "data": {
      "text/html": [
       "<div><style>\n",
       ".dataframe > thead > tr,\n",
       ".dataframe > tbody > tr {\n",
       "  text-align: right;\n",
       "  white-space: pre-wrap;\n",
       "}\n",
       "</style>\n",
       "<small>shape: (768, 3)</small><table border=\"1\" class=\"dataframe\"><thead><tr><th>Stock</th><th>month</th><th>count</th></tr><tr><td>str</td><td>str</td><td>u32</td></tr></thead><tbody><tr><td>&quot;ABT.N&quot;</td><td>&quot;2008-07-01&quot;</td><td>390</td></tr><tr><td>&quot;ABT.N&quot;</td><td>&quot;2008-07-02&quot;</td><td>390</td></tr><tr><td>&quot;ABT.N&quot;</td><td>&quot;2008-07-03&quot;</td><td>211</td></tr><tr><td>&quot;ABT.N&quot;</td><td>&quot;2008-07-07&quot;</td><td>391</td></tr><tr><td>&quot;ABT.N&quot;</td><td>&quot;2008-07-08&quot;</td><td>390</td></tr><tr><td>&hellip;</td><td>&hellip;</td><td>&hellip;</td></tr><tr><td>&quot;VZ.N&quot;</td><td>&quot;2008-12-24&quot;</td><td>214</td></tr><tr><td>&quot;VZ.N&quot;</td><td>&quot;2008-12-26&quot;</td><td>391</td></tr><tr><td>&quot;VZ.N&quot;</td><td>&quot;2008-12-29&quot;</td><td>391</td></tr><tr><td>&quot;VZ.N&quot;</td><td>&quot;2008-12-30&quot;</td><td>391</td></tr><tr><td>&quot;VZ.N&quot;</td><td>&quot;2008-12-31&quot;</td><td>391</td></tr></tbody></table></div>"
      ],
      "text/plain": [
       "shape: (768, 3)\n",
       "┌───────┬────────────┬───────┐\n",
       "│ Stock ┆ month      ┆ count │\n",
       "│ ---   ┆ ---        ┆ ---   │\n",
       "│ str   ┆ str        ┆ u32   │\n",
       "╞═══════╪════════════╪═══════╡\n",
       "│ ABT.N ┆ 2008-07-01 ┆ 390   │\n",
       "│ ABT.N ┆ 2008-07-02 ┆ 390   │\n",
       "│ ABT.N ┆ 2008-07-03 ┆ 211   │\n",
       "│ ABT.N ┆ 2008-07-07 ┆ 391   │\n",
       "│ ABT.N ┆ 2008-07-08 ┆ 390   │\n",
       "│ …     ┆ …          ┆ …     │\n",
       "│ VZ.N  ┆ 2008-12-24 ┆ 214   │\n",
       "│ VZ.N  ┆ 2008-12-26 ┆ 391   │\n",
       "│ VZ.N  ┆ 2008-12-29 ┆ 391   │\n",
       "│ VZ.N  ┆ 2008-12-30 ┆ 391   │\n",
       "│ VZ.N  ┆ 2008-12-31 ┆ 391   │\n",
       "└───────┴────────────┴───────┘"
      ]
     },
     "execution_count": 11,
     "metadata": {},
     "output_type": "execute_result"
    }
   ],
   "source": [
    "result"
   ]
  }
 ],
 "metadata": {
  "kernelspec": {
   "display_name": ".venv",
   "language": "python",
   "name": "python3"
  },
  "language_info": {
   "codemirror_mode": {
    "name": "ipython",
    "version": 3
   },
   "file_extension": ".py",
   "mimetype": "text/x-python",
   "name": "python",
   "nbconvert_exporter": "python",
   "pygments_lexer": "ipython3",
   "version": "3.12.6"
  }
 },
 "nbformat": 4,
 "nbformat_minor": 2
}
